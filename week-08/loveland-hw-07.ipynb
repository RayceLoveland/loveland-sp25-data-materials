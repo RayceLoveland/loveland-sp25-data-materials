{
 "cells": [
  {
   "cell_type": "markdown",
   "id": "845b1ca9-0e50-42b0-9544-a0499e983f8b",
   "metadata": {},
   "source": [
    "# Homework 07\n"
   ]
  },
  {
   "cell_type": "markdown",
   "id": "7888a2ab",
   "metadata": {},
   "source": [
    "### ⚠️ Before you start ⚠️\n",
    "\n",
    "_Duplicate this Jupyter Notebook in your `week-08` folder (right-click -> Duplicate) and then add your last name to the beginning of it (ie. `blevins-hw-07.ipynb` - otherwise you risk having all your work overwritten when you try to sync your GitHub repository with your instructor's repository._\n"
   ]
  },
  {
   "cell_type": "markdown",
   "id": "27c2e0ce-b956-45bb-8919-2496b0cd7580",
   "metadata": {},
   "source": [
    "---\n"
   ]
  },
  {
   "cell_type": "markdown",
   "id": "522826ea-c4eb-47f9-85bd-c6684a5cd57d",
   "metadata": {},
   "source": [
    "Name: Rayce Loveland"
   ]
  },
  {
   "cell_type": "markdown",
   "id": "a435628a-7885-481d-b123-a256bdcdb253",
   "metadata": {},
   "source": [
    "We're going to be practing using the Pandas library to explore another dataset: a famouse collection of information about some passengers on board the _Titanic_. To find out more information about this dataset look at the data dictionary on this page: <https://www.kaggle.com/c/titanic/data#:~:text=should%20look%20like.-,data%20dictionary,-Variable>\n"
   ]
  },
  {
   "cell_type": "markdown",
   "id": "62ee83c4-b147-46ce-bc4a-e44a0295e0c2",
   "metadata": {},
   "source": [
    "**Import the pandas library.**\n"
   ]
  },
  {
   "cell_type": "code",
   "execution_count": 7,
   "id": "899d19f5-8ac5-475e-9cd1-b78b3a425145",
   "metadata": {},
   "outputs": [],
   "source": [
    "#Your Code Here\n",
    "import pandas as pd"
   ]
  },
  {
   "cell_type": "markdown",
   "id": "4f65f632-0cfe-41f9-8ca5-fadbb569e82e",
   "metadata": {},
   "source": [
    "**Read in the CSV file.**\n"
   ]
  },
  {
   "cell_type": "code",
   "execution_count": 9,
   "id": "9ed7d0d8-1b36-4b2e-9f9d-e2976efd3de0",
   "metadata": {},
   "outputs": [],
   "source": [
    "#Your Code Here\n",
    "titanic_df = pd.read_csv('titanic.csv')"
   ]
  },
  {
   "cell_type": "markdown",
   "id": "4d8991d1-b531-41f1-9d3a-ed4f2da3a265",
   "metadata": {},
   "source": [
    "**Display the first 12 rows of your dataset.**\n"
   ]
  },
  {
   "cell_type": "code",
   "execution_count": 11,
   "id": "8cda445f-2fa1-4763-960d-5db2d4cbf502",
   "metadata": {
    "scrolled": true
   },
   "outputs": [
    {
     "data": {
      "text/html": [
       "<div>\n",
       "<style scoped>\n",
       "    .dataframe tbody tr th:only-of-type {\n",
       "        vertical-align: middle;\n",
       "    }\n",
       "\n",
       "    .dataframe tbody tr th {\n",
       "        vertical-align: top;\n",
       "    }\n",
       "\n",
       "    .dataframe thead th {\n",
       "        text-align: right;\n",
       "    }\n",
       "</style>\n",
       "<table border=\"1\" class=\"dataframe\">\n",
       "  <thead>\n",
       "    <tr style=\"text-align: right;\">\n",
       "      <th></th>\n",
       "      <th>PassengerId</th>\n",
       "      <th>Survived</th>\n",
       "      <th>Pclass</th>\n",
       "      <th>Name</th>\n",
       "      <th>Sex</th>\n",
       "      <th>Age</th>\n",
       "      <th>SibSp</th>\n",
       "      <th>Parch</th>\n",
       "      <th>Ticket</th>\n",
       "      <th>Fare</th>\n",
       "      <th>Cabin</th>\n",
       "      <th>Embarked</th>\n",
       "    </tr>\n",
       "  </thead>\n",
       "  <tbody>\n",
       "    <tr>\n",
       "      <th>0</th>\n",
       "      <td>1</td>\n",
       "      <td>0</td>\n",
       "      <td>3</td>\n",
       "      <td>Braund, Mr. Owen Harris</td>\n",
       "      <td>male</td>\n",
       "      <td>22.0</td>\n",
       "      <td>1</td>\n",
       "      <td>0</td>\n",
       "      <td>A/5 21171</td>\n",
       "      <td>7.2500</td>\n",
       "      <td>NaN</td>\n",
       "      <td>S</td>\n",
       "    </tr>\n",
       "    <tr>\n",
       "      <th>1</th>\n",
       "      <td>2</td>\n",
       "      <td>1</td>\n",
       "      <td>1</td>\n",
       "      <td>Cumings, Mrs. John Bradley (Florence Briggs Th...</td>\n",
       "      <td>female</td>\n",
       "      <td>38.0</td>\n",
       "      <td>1</td>\n",
       "      <td>0</td>\n",
       "      <td>PC 17599</td>\n",
       "      <td>71.2833</td>\n",
       "      <td>C85</td>\n",
       "      <td>C</td>\n",
       "    </tr>\n",
       "    <tr>\n",
       "      <th>2</th>\n",
       "      <td>3</td>\n",
       "      <td>1</td>\n",
       "      <td>3</td>\n",
       "      <td>Heikkinen, Miss. Laina</td>\n",
       "      <td>female</td>\n",
       "      <td>26.0</td>\n",
       "      <td>0</td>\n",
       "      <td>0</td>\n",
       "      <td>STON/O2. 3101282</td>\n",
       "      <td>7.9250</td>\n",
       "      <td>NaN</td>\n",
       "      <td>S</td>\n",
       "    </tr>\n",
       "    <tr>\n",
       "      <th>3</th>\n",
       "      <td>4</td>\n",
       "      <td>1</td>\n",
       "      <td>1</td>\n",
       "      <td>Futrelle, Mrs. Jacques Heath (Lily May Peel)</td>\n",
       "      <td>female</td>\n",
       "      <td>35.0</td>\n",
       "      <td>1</td>\n",
       "      <td>0</td>\n",
       "      <td>113803</td>\n",
       "      <td>53.1000</td>\n",
       "      <td>C123</td>\n",
       "      <td>S</td>\n",
       "    </tr>\n",
       "    <tr>\n",
       "      <th>4</th>\n",
       "      <td>5</td>\n",
       "      <td>0</td>\n",
       "      <td>3</td>\n",
       "      <td>Allen, Mr. William Henry</td>\n",
       "      <td>male</td>\n",
       "      <td>35.0</td>\n",
       "      <td>0</td>\n",
       "      <td>0</td>\n",
       "      <td>373450</td>\n",
       "      <td>8.0500</td>\n",
       "      <td>NaN</td>\n",
       "      <td>S</td>\n",
       "    </tr>\n",
       "    <tr>\n",
       "      <th>5</th>\n",
       "      <td>6</td>\n",
       "      <td>0</td>\n",
       "      <td>3</td>\n",
       "      <td>Moran, Mr. James</td>\n",
       "      <td>male</td>\n",
       "      <td>NaN</td>\n",
       "      <td>0</td>\n",
       "      <td>0</td>\n",
       "      <td>330877</td>\n",
       "      <td>8.4583</td>\n",
       "      <td>NaN</td>\n",
       "      <td>Q</td>\n",
       "    </tr>\n",
       "    <tr>\n",
       "      <th>6</th>\n",
       "      <td>7</td>\n",
       "      <td>0</td>\n",
       "      <td>1</td>\n",
       "      <td>McCarthy, Mr. Timothy J</td>\n",
       "      <td>male</td>\n",
       "      <td>54.0</td>\n",
       "      <td>0</td>\n",
       "      <td>0</td>\n",
       "      <td>17463</td>\n",
       "      <td>51.8625</td>\n",
       "      <td>E46</td>\n",
       "      <td>S</td>\n",
       "    </tr>\n",
       "    <tr>\n",
       "      <th>7</th>\n",
       "      <td>8</td>\n",
       "      <td>0</td>\n",
       "      <td>3</td>\n",
       "      <td>Palsson, Master. Gosta Leonard</td>\n",
       "      <td>male</td>\n",
       "      <td>2.0</td>\n",
       "      <td>3</td>\n",
       "      <td>1</td>\n",
       "      <td>349909</td>\n",
       "      <td>21.0750</td>\n",
       "      <td>NaN</td>\n",
       "      <td>S</td>\n",
       "    </tr>\n",
       "    <tr>\n",
       "      <th>8</th>\n",
       "      <td>9</td>\n",
       "      <td>1</td>\n",
       "      <td>3</td>\n",
       "      <td>Johnson, Mrs. Oscar W (Elisabeth Vilhelmina Berg)</td>\n",
       "      <td>female</td>\n",
       "      <td>27.0</td>\n",
       "      <td>0</td>\n",
       "      <td>2</td>\n",
       "      <td>347742</td>\n",
       "      <td>11.1333</td>\n",
       "      <td>NaN</td>\n",
       "      <td>S</td>\n",
       "    </tr>\n",
       "    <tr>\n",
       "      <th>9</th>\n",
       "      <td>10</td>\n",
       "      <td>1</td>\n",
       "      <td>2</td>\n",
       "      <td>Nasser, Mrs. Nicholas (Adele Achem)</td>\n",
       "      <td>female</td>\n",
       "      <td>14.0</td>\n",
       "      <td>1</td>\n",
       "      <td>0</td>\n",
       "      <td>237736</td>\n",
       "      <td>30.0708</td>\n",
       "      <td>NaN</td>\n",
       "      <td>C</td>\n",
       "    </tr>\n",
       "    <tr>\n",
       "      <th>10</th>\n",
       "      <td>11</td>\n",
       "      <td>1</td>\n",
       "      <td>3</td>\n",
       "      <td>Sandstrom, Miss. Marguerite Rut</td>\n",
       "      <td>female</td>\n",
       "      <td>4.0</td>\n",
       "      <td>1</td>\n",
       "      <td>1</td>\n",
       "      <td>PP 9549</td>\n",
       "      <td>16.7000</td>\n",
       "      <td>G6</td>\n",
       "      <td>S</td>\n",
       "    </tr>\n",
       "    <tr>\n",
       "      <th>11</th>\n",
       "      <td>12</td>\n",
       "      <td>1</td>\n",
       "      <td>1</td>\n",
       "      <td>Bonnell, Miss. Elizabeth</td>\n",
       "      <td>female</td>\n",
       "      <td>58.0</td>\n",
       "      <td>0</td>\n",
       "      <td>0</td>\n",
       "      <td>113783</td>\n",
       "      <td>26.5500</td>\n",
       "      <td>C103</td>\n",
       "      <td>S</td>\n",
       "    </tr>\n",
       "  </tbody>\n",
       "</table>\n",
       "</div>"
      ],
      "text/plain": [
       "    PassengerId  Survived  Pclass  \\\n",
       "0             1         0       3   \n",
       "1             2         1       1   \n",
       "2             3         1       3   \n",
       "3             4         1       1   \n",
       "4             5         0       3   \n",
       "5             6         0       3   \n",
       "6             7         0       1   \n",
       "7             8         0       3   \n",
       "8             9         1       3   \n",
       "9            10         1       2   \n",
       "10           11         1       3   \n",
       "11           12         1       1   \n",
       "\n",
       "                                                 Name     Sex   Age  SibSp  \\\n",
       "0                             Braund, Mr. Owen Harris    male  22.0      1   \n",
       "1   Cumings, Mrs. John Bradley (Florence Briggs Th...  female  38.0      1   \n",
       "2                              Heikkinen, Miss. Laina  female  26.0      0   \n",
       "3        Futrelle, Mrs. Jacques Heath (Lily May Peel)  female  35.0      1   \n",
       "4                            Allen, Mr. William Henry    male  35.0      0   \n",
       "5                                    Moran, Mr. James    male   NaN      0   \n",
       "6                             McCarthy, Mr. Timothy J    male  54.0      0   \n",
       "7                      Palsson, Master. Gosta Leonard    male   2.0      3   \n",
       "8   Johnson, Mrs. Oscar W (Elisabeth Vilhelmina Berg)  female  27.0      0   \n",
       "9                 Nasser, Mrs. Nicholas (Adele Achem)  female  14.0      1   \n",
       "10                    Sandstrom, Miss. Marguerite Rut  female   4.0      1   \n",
       "11                           Bonnell, Miss. Elizabeth  female  58.0      0   \n",
       "\n",
       "    Parch            Ticket     Fare Cabin Embarked  \n",
       "0       0         A/5 21171   7.2500   NaN        S  \n",
       "1       0          PC 17599  71.2833   C85        C  \n",
       "2       0  STON/O2. 3101282   7.9250   NaN        S  \n",
       "3       0            113803  53.1000  C123        S  \n",
       "4       0            373450   8.0500   NaN        S  \n",
       "5       0            330877   8.4583   NaN        Q  \n",
       "6       0             17463  51.8625   E46        S  \n",
       "7       1            349909  21.0750   NaN        S  \n",
       "8       2            347742  11.1333   NaN        S  \n",
       "9       0            237736  30.0708   NaN        C  \n",
       "10      1           PP 9549  16.7000    G6        S  \n",
       "11      0            113783  26.5500  C103        S  "
      ]
     },
     "execution_count": 11,
     "metadata": {},
     "output_type": "execute_result"
    }
   ],
   "source": [
    "#Your Code Here\n",
    "titanic_df.head(12)"
   ]
  },
  {
   "cell_type": "markdown",
   "id": "44e810b5-5b60-4646-bbb1-05b0b28e52a7",
   "metadata": {},
   "source": [
    "**What are the different data types contained in each column?**\n"
   ]
  },
  {
   "cell_type": "code",
   "execution_count": 13,
   "id": "eb1c3b4f-19db-4d0d-81af-97b5c7fd1b90",
   "metadata": {},
   "outputs": [
    {
     "data": {
      "text/plain": [
       "Index(['PassengerId', 'Survived', 'Pclass', 'Name', 'Sex', 'Age', 'SibSp',\n",
       "       'Parch', 'Ticket', 'Fare', 'Cabin', 'Embarked'],\n",
       "      dtype='object')"
      ]
     },
     "execution_count": 13,
     "metadata": {},
     "output_type": "execute_result"
    }
   ],
   "source": [
    "#Your Code Here\n",
    "titanic_df.columns"
   ]
  },
  {
   "cell_type": "markdown",
   "id": "c0eb2837-04a9-40fd-8067-4f33ca8a91d6",
   "metadata": {},
   "source": [
    "**In your own words, what is the difference in the data types for `Survived` vs. `Age` columns?**\n",
    "\n",
    "The difference between the two columns is that survived indicates whether the person survived the sinking or not. Age tells their age while on the Titanic. \n"
   ]
  },
  {
   "cell_type": "markdown",
   "id": "9baf81f8-0f64-4472-92ee-ce434fa55a55",
   "metadata": {},
   "source": [
    "**Use the `.isna()` or `.notna()` methods in conjunction with a filter to only select rows from your dataframe consisting of passengers for which we have information about the cabin they were in.**\n"
   ]
  },
  {
   "cell_type": "code",
   "execution_count": 16,
   "id": "966a8c73-015e-4e38-808e-f5c49123714b",
   "metadata": {},
   "outputs": [
    {
     "name": "stdout",
     "output_type": "stream",
     "text": [
      "     PassengerId  Survived  Pclass  \\\n",
      "1              2         1       1   \n",
      "3              4         1       1   \n",
      "6              7         0       1   \n",
      "10            11         1       3   \n",
      "11            12         1       1   \n",
      "..           ...       ...     ...   \n",
      "871          872         1       1   \n",
      "872          873         0       1   \n",
      "879          880         1       1   \n",
      "887          888         1       1   \n",
      "889          890         1       1   \n",
      "\n",
      "                                                  Name     Sex   Age  SibSp  \\\n",
      "1    Cumings, Mrs. John Bradley (Florence Briggs Th...  female  38.0      1   \n",
      "3         Futrelle, Mrs. Jacques Heath (Lily May Peel)  female  35.0      1   \n",
      "6                              McCarthy, Mr. Timothy J    male  54.0      0   \n",
      "10                     Sandstrom, Miss. Marguerite Rut  female   4.0      1   \n",
      "11                            Bonnell, Miss. Elizabeth  female  58.0      0   \n",
      "..                                                 ...     ...   ...    ...   \n",
      "871   Beckwith, Mrs. Richard Leonard (Sallie Monypeny)  female  47.0      1   \n",
      "872                           Carlsson, Mr. Frans Olof    male  33.0      0   \n",
      "879      Potter, Mrs. Thomas Jr (Lily Alexenia Wilson)  female  56.0      0   \n",
      "887                       Graham, Miss. Margaret Edith  female  19.0      0   \n",
      "889                              Behr, Mr. Karl Howell    male  26.0      0   \n",
      "\n",
      "     Parch    Ticket     Fare        Cabin Embarked  \n",
      "1        0  PC 17599  71.2833          C85        C  \n",
      "3        0    113803  53.1000         C123        S  \n",
      "6        0     17463  51.8625          E46        S  \n",
      "10       1   PP 9549  16.7000           G6        S  \n",
      "11       0    113783  26.5500         C103        S  \n",
      "..     ...       ...      ...          ...      ...  \n",
      "871      1     11751  52.5542          D35        S  \n",
      "872      0       695   5.0000  B51 B53 B55        S  \n",
      "879      1     11767  83.1583          C50        C  \n",
      "887      0    112053  30.0000          B42        S  \n",
      "889      0    111369  30.0000         C148        C  \n",
      "\n",
      "[204 rows x 12 columns]\n"
     ]
    }
   ],
   "source": [
    "#Your Code Here\n",
    "cabin_filter = titanic_df['Cabin'].notna()\n",
    "titanic_cabin_df = titanic_df[cabin_filter]\n",
    "print(titanic_cabin_df)"
   ]
  },
  {
   "cell_type": "markdown",
   "id": "9c774be7-ba2c-4aee-8a92-38d8b7522ea8",
   "metadata": {},
   "source": [
    "**What percentage of rows (passengers) in the dataset have information about their cabin number?**\n"
   ]
  },
  {
   "cell_type": "code",
   "execution_count": 18,
   "id": "3cd6735d-a602-45eb-92bb-7436afe7eeb5",
   "metadata": {},
   "outputs": [
    {
     "data": {
      "text/plain": [
       "Cabin\n",
       "False    0.771044\n",
       "True     0.228956\n",
       "Name: proportion, dtype: float64"
      ]
     },
     "execution_count": 18,
     "metadata": {},
     "output_type": "execute_result"
    }
   ],
   "source": [
    "#Your Code Here\n",
    "titanic_df['Cabin'].notna().value_counts(normalize=True)"
   ]
  },
  {
   "cell_type": "markdown",
   "id": "cff87076-07fa-4822-bfcf-9fbe28063db1",
   "metadata": {},
   "source": [
    "23%"
   ]
  },
  {
   "cell_type": "markdown",
   "id": "d288ff00-bdd5-4efe-9ed2-da0b52dcdccc",
   "metadata": {},
   "source": [
    "Some of our columns are hard to read. **Rename the following columns:**\n",
    "\n",
    "- The`SibSp` column contains information about whether the passenger had family on board (siblings or spouses). **Rename the column `siblings_spouses`.**\n",
    "- The `Pclass` column stands for the ticket class (1st, 2nd, or 3rd). **Rename the column `ticket_class`.**\n",
    "\n",
    "_Hint: remember to change it permanently rather than temporarily_.\n"
   ]
  },
  {
   "cell_type": "code",
   "execution_count": 21,
   "id": "c54d00f4-b40b-41db-b809-8f65983b7624",
   "metadata": {},
   "outputs": [],
   "source": [
    "#Your Code Here\n",
    "titanic_df.rename(columns={'SibSp': 'siblings_spouses'}, inplace=True)\n",
    "titanic_df.rename(columns={'Pclass': 'ticket_class'}, inplace=True)"
   ]
  },
  {
   "cell_type": "markdown",
   "id": "2cf2ee51-8c19-4716-a128-e79573a80dc0",
   "metadata": {},
   "source": [
    "**Which passengers bought the nine most expensive tickets?**\n"
   ]
  },
  {
   "cell_type": "code",
   "execution_count": 23,
   "id": "e82d7765-4454-4f94-857a-d0d2b7a12ae6",
   "metadata": {},
   "outputs": [
    {
     "data": {
      "text/html": [
       "<div>\n",
       "<style scoped>\n",
       "    .dataframe tbody tr th:only-of-type {\n",
       "        vertical-align: middle;\n",
       "    }\n",
       "\n",
       "    .dataframe tbody tr th {\n",
       "        vertical-align: top;\n",
       "    }\n",
       "\n",
       "    .dataframe thead th {\n",
       "        text-align: right;\n",
       "    }\n",
       "</style>\n",
       "<table border=\"1\" class=\"dataframe\">\n",
       "  <thead>\n",
       "    <tr style=\"text-align: right;\">\n",
       "      <th></th>\n",
       "      <th>Name</th>\n",
       "      <th>Fare</th>\n",
       "    </tr>\n",
       "  </thead>\n",
       "  <tbody>\n",
       "    <tr>\n",
       "      <th>258</th>\n",
       "      <td>Ward, Miss. Anna</td>\n",
       "      <td>512.3292</td>\n",
       "    </tr>\n",
       "    <tr>\n",
       "      <th>737</th>\n",
       "      <td>Lesurer, Mr. Gustave J</td>\n",
       "      <td>512.3292</td>\n",
       "    </tr>\n",
       "    <tr>\n",
       "      <th>679</th>\n",
       "      <td>Cardeza, Mr. Thomas Drake Martinez</td>\n",
       "      <td>512.3292</td>\n",
       "    </tr>\n",
       "    <tr>\n",
       "      <th>88</th>\n",
       "      <td>Fortune, Miss. Mabel Helen</td>\n",
       "      <td>263.0000</td>\n",
       "    </tr>\n",
       "    <tr>\n",
       "      <th>27</th>\n",
       "      <td>Fortune, Mr. Charles Alexander</td>\n",
       "      <td>263.0000</td>\n",
       "    </tr>\n",
       "    <tr>\n",
       "      <th>341</th>\n",
       "      <td>Fortune, Miss. Alice Elizabeth</td>\n",
       "      <td>263.0000</td>\n",
       "    </tr>\n",
       "    <tr>\n",
       "      <th>438</th>\n",
       "      <td>Fortune, Mr. Mark</td>\n",
       "      <td>263.0000</td>\n",
       "    </tr>\n",
       "    <tr>\n",
       "      <th>311</th>\n",
       "      <td>Ryerson, Miss. Emily Borie</td>\n",
       "      <td>262.3750</td>\n",
       "    </tr>\n",
       "    <tr>\n",
       "      <th>742</th>\n",
       "      <td>Ryerson, Miss. Susan Parker \"Suzette\"</td>\n",
       "      <td>262.3750</td>\n",
       "    </tr>\n",
       "    <tr>\n",
       "      <th>118</th>\n",
       "      <td>Baxter, Mr. Quigg Edmond</td>\n",
       "      <td>247.5208</td>\n",
       "    </tr>\n",
       "    <tr>\n",
       "      <th>299</th>\n",
       "      <td>Baxter, Mrs. James (Helene DeLaudeniere Chaput)</td>\n",
       "      <td>247.5208</td>\n",
       "    </tr>\n",
       "    <tr>\n",
       "      <th>557</th>\n",
       "      <td>Robbins, Mr. Victor</td>\n",
       "      <td>227.5250</td>\n",
       "    </tr>\n",
       "  </tbody>\n",
       "</table>\n",
       "</div>"
      ],
      "text/plain": [
       "                                                Name      Fare\n",
       "258                                 Ward, Miss. Anna  512.3292\n",
       "737                           Lesurer, Mr. Gustave J  512.3292\n",
       "679               Cardeza, Mr. Thomas Drake Martinez  512.3292\n",
       "88                        Fortune, Miss. Mabel Helen  263.0000\n",
       "27                    Fortune, Mr. Charles Alexander  263.0000\n",
       "341                   Fortune, Miss. Alice Elizabeth  263.0000\n",
       "438                                Fortune, Mr. Mark  263.0000\n",
       "311                       Ryerson, Miss. Emily Borie  262.3750\n",
       "742            Ryerson, Miss. Susan Parker \"Suzette\"  262.3750\n",
       "118                         Baxter, Mr. Quigg Edmond  247.5208\n",
       "299  Baxter, Mrs. James (Helene DeLaudeniere Chaput)  247.5208\n",
       "557                              Robbins, Mr. Victor  227.5250"
      ]
     },
     "execution_count": 23,
     "metadata": {},
     "output_type": "execute_result"
    }
   ],
   "source": [
    "#Your Code Here\n",
    "titanic_df.sort_values('Fare', ascending=False)[['Name','Fare']].head(12)"
   ]
  },
  {
   "cell_type": "markdown",
   "id": "9f9dca5b-c306-46b3-a5c5-c406678df89a",
   "metadata": {},
   "source": [
    "**What was the median age of passengers on the Titanic?**\n"
   ]
  },
  {
   "cell_type": "code",
   "execution_count": 25,
   "id": "016b7d91-132a-4783-9ee3-594bacfa1667",
   "metadata": {},
   "outputs": [
    {
     "data": {
      "text/plain": [
       "28.0"
      ]
     },
     "execution_count": 25,
     "metadata": {},
     "output_type": "execute_result"
    }
   ],
   "source": [
    "#Your Code Here\n",
    "titanic_df['Age'].median()"
   ]
  },
  {
   "cell_type": "markdown",
   "id": "09917036-e2f5-44ff-8d82-50473bffd799",
   "metadata": {},
   "source": [
    "**Who was the oldest passenger on the Titanic in our dataset?**\n"
   ]
  },
  {
   "cell_type": "code",
   "execution_count": 27,
   "id": "785b327e-3fcc-43da-962d-f52c54df59e2",
   "metadata": {},
   "outputs": [
    {
     "data": {
      "text/html": [
       "<div>\n",
       "<style scoped>\n",
       "    .dataframe tbody tr th:only-of-type {\n",
       "        vertical-align: middle;\n",
       "    }\n",
       "\n",
       "    .dataframe tbody tr th {\n",
       "        vertical-align: top;\n",
       "    }\n",
       "\n",
       "    .dataframe thead th {\n",
       "        text-align: right;\n",
       "    }\n",
       "</style>\n",
       "<table border=\"1\" class=\"dataframe\">\n",
       "  <thead>\n",
       "    <tr style=\"text-align: right;\">\n",
       "      <th></th>\n",
       "      <th>Name</th>\n",
       "      <th>Age</th>\n",
       "    </tr>\n",
       "  </thead>\n",
       "  <tbody>\n",
       "    <tr>\n",
       "      <th>630</th>\n",
       "      <td>Barkworth, Mr. Algernon Henry Wilson</td>\n",
       "      <td>80.0</td>\n",
       "    </tr>\n",
       "  </tbody>\n",
       "</table>\n",
       "</div>"
      ],
      "text/plain": [
       "                                     Name   Age\n",
       "630  Barkworth, Mr. Algernon Henry Wilson  80.0"
      ]
     },
     "execution_count": 27,
     "metadata": {},
     "output_type": "execute_result"
    }
   ],
   "source": [
    "#Your Code Here\n",
    "titanic_df.sort_values('Age', ascending=False)[['Name', 'Age']].head(1)"
   ]
  },
  {
   "cell_type": "markdown",
   "id": "e291e766-203e-4a7f-9e39-01a900531012",
   "metadata": {},
   "source": [
    "**Use the `groupby` function to count how many passengers bought each class of ticket.**\n"
   ]
  },
  {
   "cell_type": "code",
   "execution_count": 29,
   "id": "6de3655e-a3e4-4f35-b2af-1b1c638bfd58",
   "metadata": {},
   "outputs": [
    {
     "data": {
      "text/plain": [
       "ticket_class\n",
       "3    491\n",
       "1    216\n",
       "2    184\n",
       "Name: count, dtype: int64"
      ]
     },
     "execution_count": 29,
     "metadata": {},
     "output_type": "execute_result"
    }
   ],
   "source": [
    "#Your Code Here\n",
    "titanic_df['ticket_class'].value_counts()"
   ]
  },
  {
   "cell_type": "markdown",
   "id": "3f5209cf-acf0-422f-a810-4ad8434a8c65",
   "metadata": {},
   "source": [
    "**Use the `groupby` function to group passengers into different classes of ticket and then calculate the median age of passengers within each ticket class.**\n"
   ]
  },
  {
   "cell_type": "code",
   "execution_count": 31,
   "id": "026ce8a0-7af8-4513-88b0-c9cb6580592b",
   "metadata": {},
   "outputs": [
    {
     "data": {
      "text/plain": [
       "ticket_class\n",
       "1    37.0\n",
       "2    29.0\n",
       "3    24.0\n",
       "Name: Age, dtype: float64"
      ]
     },
     "execution_count": 31,
     "metadata": {},
     "output_type": "execute_result"
    }
   ],
   "source": [
    "#Your Code Here\n",
    "titanic_df.groupby('ticket_class')['Age'].median()"
   ]
  },
  {
   "cell_type": "markdown",
   "id": "bddd972e-4eb8-4371-9fc4-14cecbf311c9",
   "metadata": {},
   "source": [
    "**Use the `groupby` function to group passengers into different classes of ticket and then calculate the median ticket fare within each ticket class.**\n"
   ]
  },
  {
   "cell_type": "markdown",
   "id": "188bdffb",
   "metadata": {},
   "source": []
  },
  {
   "cell_type": "code",
   "execution_count": 34,
   "id": "13387d40-7a99-4a12-9c12-afd33a9c7f7d",
   "metadata": {},
   "outputs": [
    {
     "data": {
      "text/plain": [
       "ticket_class\n",
       "1    60.2875\n",
       "2    14.2500\n",
       "3     8.0500\n",
       "Name: Fare, dtype: float64"
      ]
     },
     "execution_count": 34,
     "metadata": {},
     "output_type": "execute_result"
    }
   ],
   "source": [
    "#Your Code Here\n",
    "titanic_df.groupby('ticket_class')['Fare'].median()"
   ]
  },
  {
   "cell_type": "markdown",
   "id": "f9ac9ed4",
   "metadata": {},
   "source": [
    "## Bonus Questions\n"
   ]
  },
  {
   "cell_type": "markdown",
   "id": "dab99a73",
   "metadata": {},
   "source": [
    "**Bonus: Make the Survived column more legible. Write a function and apply it to the dataframe that changes the 0 and 1 values to \"Died\" and \"Lived.\" Then display the first 10 rows to see if it worked.**\n",
    "\n",
    "Note: when changing the values in columns, you might make mistakes. That's okay! You can always reload the dataframe from the original file to start over. When trying to answer this questions, each time you run it I'm going to have you start with the \"original\" dataframe so that you don't have to go back to the beginning of the notebook and run all the cells again.\n"
   ]
  },
  {
   "cell_type": "code",
   "execution_count": 37,
   "id": "1823a48e",
   "metadata": {},
   "outputs": [],
   "source": [
    "titanic_df=pd.read_csv('titanic.csv')\n",
    "\n",
    "# Your Code Here\n"
   ]
  },
  {
   "cell_type": "markdown",
   "id": "99de3828",
   "metadata": {},
   "source": [
    "**Bonus: What percentage of people survived the Titanic?**\n"
   ]
  },
  {
   "cell_type": "code",
   "execution_count": 39,
   "id": "6fc952e2-f346-4b8d-bbba-35c672705fd8",
   "metadata": {},
   "outputs": [],
   "source": [
    "#Your Code Here\n"
   ]
  },
  {
   "cell_type": "markdown",
   "id": "9354b6ec-cf93-4f98-8ffc-724dcd08c72c",
   "metadata": {},
   "source": [
    "**Bonus: Make a pie chart visualizing the proportion of people who survived the Titanic.** Hint: use the total number of rows in the dataframe to calculate the percentage.\n"
   ]
  },
  {
   "cell_type": "code",
   "execution_count": 41,
   "id": "92b3cb7c-a7c9-420b-b019-cf346003c85d",
   "metadata": {},
   "outputs": [],
   "source": [
    "#Your Code Here\n",
    "\n"
   ]
  }
 ],
 "metadata": {
  "kernelspec": {
   "display_name": "Python [conda env:base] *",
   "language": "python",
   "name": "conda-base-py"
  },
  "language_info": {
   "codemirror_mode": {
    "name": "ipython",
    "version": 3
   },
   "file_extension": ".py",
   "mimetype": "text/x-python",
   "name": "python",
   "nbconvert_exporter": "python",
   "pygments_lexer": "ipython3",
   "version": "3.12.7"
  }
 },
 "nbformat": 4,
 "nbformat_minor": 5
}

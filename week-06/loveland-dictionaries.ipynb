{
 "cells": [
  {
   "cell_type": "markdown",
   "id": "bc5dc17b-204b-448e-8ef8-726d91090615",
   "metadata": {},
   "source": [
    "Create A Dictionary"
   ]
  },
  {
   "cell_type": "code",
   "execution_count": 59,
   "id": "6b027b69-866b-40a2-bc3b-36cbd52eeec0",
   "metadata": {},
   "outputs": [
    {
     "name": "stdout",
     "output_type": "stream",
     "text": [
      "{'Patrick Murphy': 45, 'Mary Kelly': 23, 'Thomas Williams': 16, 'Elizabeth Smith': 34}\n"
     ]
    }
   ],
   "source": [
    "# Create a dictionary mapping names to ages\n",
    "ages_dict = {\n",
    "    \"Patrick Murphy\": 45,\n",
    "    \"Mary Kelly\": 23,\n",
    "    \"Thomas Williams\": 16,\n",
    "    \"Elizabeth Smith\": 34\n",
    "}\n",
    "\n",
    "# Print the entire dictionary\n",
    "print(ages_dict)\n"
   ]
  },
  {
   "cell_type": "markdown",
   "id": "e1d077ab-88db-4e7f-b934-6b698df9994c",
   "metadata": {},
   "source": [
    "Accessing items"
   ]
  },
  {
   "cell_type": "code",
   "execution_count": 62,
   "id": "3767ebbe-c40a-4805-8358-101f7a86943d",
   "metadata": {},
   "outputs": [
    {
     "name": "stdout",
     "output_type": "stream",
     "text": [
      "Patrick Murphy is 45 years old.\n"
     ]
    }
   ],
   "source": [
    "# Get Patrick's age using his name as the key\n",
    "patricks_age = ages_dict[\"Patrick Murphy\"]\n",
    "print(f\"Patrick Murphy is {patricks_age} years old.\")\n"
   ]
  },
  {
   "cell_type": "code",
   "execution_count": 64,
   "id": "098d4d4e-3e32-4656-86e1-391544b19ea1",
   "metadata": {},
   "outputs": [
    {
     "name": "stdout",
     "output_type": "stream",
     "text": [
      "{'Meryl Streep': 75, 'Tom Hanks': 68, 'Tayler Swift': 35, 'Olivia Rodrigo': 22}\n"
     ]
    },
    {
     "ename": "KeyError",
     "evalue": "'Olvia Rodrigo'",
     "output_type": "error",
     "traceback": [
      "\u001b[1;31m---------------------------------------------------------------------------\u001b[0m",
      "\u001b[1;31mKeyError\u001b[0m                                  Traceback (most recent call last)",
      "Cell \u001b[1;32mIn[64], line 13\u001b[0m\n\u001b[0;32m     10\u001b[0m \u001b[38;5;28mprint\u001b[39m(celebrity_ages)\n\u001b[0;32m     12\u001b[0m \u001b[38;5;66;03m# Print Zendaya's age\u001b[39;00m\n\u001b[1;32m---> 13\u001b[0m \u001b[38;5;28mprint\u001b[39m(\u001b[38;5;124mf\u001b[39m\u001b[38;5;124m\"\u001b[39m\u001b[38;5;124mOlvia Rodrigo\u001b[39m\u001b[38;5;124m'\u001b[39m\u001b[38;5;124ms age: \u001b[39m\u001b[38;5;132;01m{\u001b[39;00mcelebrity_ages[\u001b[38;5;124m'\u001b[39m\u001b[38;5;124mOlvia Rodrigo\u001b[39m\u001b[38;5;124m'\u001b[39m]\u001b[38;5;132;01m}\u001b[39;00m\u001b[38;5;124m\"\u001b[39m)\n",
      "\u001b[1;31mKeyError\u001b[0m: 'Olvia Rodrigo'"
     ]
    }
   ],
   "source": [
    "# Create a dictionary mapping names to ages\n",
    "celebrity_ages = {\n",
    "    \"Meryl Streep\": 75,\n",
    "    \"Tom Hanks\": 68,\n",
    "    \"Tayler Swift\": 35,\n",
    "    \"Olivia Rodrigo\": 22\n",
    "}\n",
    "\n",
    "# Print the entire dictionary\n",
    "print(celebrity_ages)\n",
    "\n",
    "# Print Zendaya's age\n",
    "print(f\"Olvia Rodrigo's age: {celebrity_ages['Olvia Rodrigo']}\")\n"
   ]
  },
  {
   "cell_type": "code",
   "execution_count": 66,
   "id": "2d5b106d-0498-4d22-b7bb-0f5d6b08415c",
   "metadata": {},
   "outputs": [
    {
     "name": "stdout",
     "output_type": "stream",
     "text": [
      "{'Patrick Murphy': 45, 'Mary Kelly': 23, 'Thomas Williams': 16, 'Elizabeth Smith': 34, 'Michael Sullivan': 64}\n"
     ]
    }
   ],
   "source": [
    "# Add a new person to our ages dictionary\n",
    "ages_dict[\"Michael Sullivan\"] = 64\n",
    "print(ages_dict)"
   ]
  },
  {
   "cell_type": "code",
   "execution_count": 68,
   "id": "d5aa93ee-26a0-4ea1-af82-659d2f4b636a",
   "metadata": {},
   "outputs": [
    {
     "name": "stdout",
     "output_type": "stream",
     "text": [
      "Updated age for Thomas: 17\n"
     ]
    }
   ],
   "source": [
    "# Change someone's age\n",
    "ages_dict[\"Thomas Williams\"] = 17  # Thomas just had a birthday!\n",
    "print(f\"Updated age for Thomas: {ages_dict['Thomas Williams']}\")\n"
   ]
  },
  {
   "cell_type": "code",
   "execution_count": 70,
   "id": "b1c1168b-0e66-4faf-aee2-8ae77dcc1de6",
   "metadata": {},
   "outputs": [
    {
     "name": "stdout",
     "output_type": "stream",
     "text": [
      "{'Meryl Streep': 75, 'Tom Hanks': 68, 'Tayler Swift': 35, 'Olivia Rodrigo': 22, 'Brad Pitt': 61}\n"
     ]
    }
   ],
   "source": [
    "# Add a new person to our ages dictionary\n",
    "celebrity_ages[\"Brad Pitt\"] = 61\n",
    "print(celebrity_ages)"
   ]
  },
  {
   "cell_type": "code",
   "execution_count": 72,
   "id": "a57659bf-c3d2-4d65-9fc4-5b51bc6f10d8",
   "metadata": {},
   "outputs": [
    {
     "name": "stdout",
     "output_type": "stream",
     "text": [
      "Meryl Streep is 75 years old.\n",
      "Tom Hanks is 68 years old.\n",
      "Tayler Swift is 35 years old.\n",
      "Olivia Rodrigo is 22 years old.\n",
      "Brad Pitt is 61 years old.\n"
     ]
    }
   ],
   "source": [
    "for name in celebrity_ages:\n",
    "    print(f\"{name} is {celebrity_ages[name]} years old.\")"
   ]
  },
  {
   "cell_type": "code",
   "execution_count": 74,
   "id": "4158b11d-6c9f-49bd-afb1-3917846c8b61",
   "metadata": {},
   "outputs": [
    {
     "name": "stdout",
     "output_type": "stream",
     "text": [
      "{'Meryl Streep': 75, 'Tom Hanks': 68, 'Tayler Swift': 35, 'Olivia Rodrigo': 22, 'Brad Pitt': 61, 'Jean-Claude Van Damme': 64}\n"
     ]
    }
   ],
   "source": [
    "celebrity_ages[\"Jean-Claude Van Damme\"] = 64\n",
    "print(celebrity_ages)"
   ]
  },
  {
   "cell_type": "code",
   "execution_count": 82,
   "id": "6ef970dc-8cae-4536-905f-d36a3da40beb",
   "metadata": {},
   "outputs": [
    {
     "name": "stdout",
     "output_type": "stream",
     "text": [
      "Meryl Streep is a Boomer\n",
      "Tom Hanks is a Boomer\n",
      "Tayler Swift is a Millenial\n",
      "Olivia Rodrigo is z Zoomer\n",
      "Jean-Claude Van Damme is a Boomer\n"
     ]
    }
   ],
   "source": [
    "for name, age in celebrity_ages.items():\n",
    "    if age > 61:\n",
    "        print(f\"{name} is a Boomer\")\n",
    "    elif age > 29 and age <= 44:\n",
    "        print(f\"{name} is a Millenial\")\n",
    "    elif age < 29:\n",
    "        print(f\"{name} is z Zoomer\")"
   ]
  },
  {
   "cell_type": "code",
   "execution_count": 78,
   "id": "5a1cf0d8-491b-475f-9db1-a4c8006facba",
   "metadata": {},
   "outputs": [],
   "source": [
    "# Create one dictionary with all information about each person\n",
    "census_data = {\n",
    "    \"Patrick Murphy\": {\n",
    "        \"age\": 45,\n",
    "        \"birth_place\": \"Ireland\",\n",
    "        \"occupation\": \"farmer\"\n",
    "    },\n",
    "    \"Mary Kelly\": {\n",
    "        \"age\": 23,\n",
    "        \"birth_place\": \"Ireland\",\n",
    "        \"occupation\": \"servant\"\n",
    "    },\n",
    "    \"Thomas Williams\": {\n",
    "        \"age\": 17,\n",
    "        \"birth_place\": \"Wales\",\n",
    "        \"occupation\": \"laborer\"\n",
    "    },\n",
    "    \"Elizabeth Smith\": {\n",
    "    \"age\": 34,\n",
    "    \"birth_place\": \"England\",\n",
    "    \"occupation\": \"servant\"\n",
    "    }\n",
    "}\n"
   ]
  },
  {
   "cell_type": "code",
   "execution_count": 80,
   "id": "30eb961f-b187-4fe6-9107-7db27eba5236",
   "metadata": {},
   "outputs": [
    {
     "name": "stdout",
     "output_type": "stream",
     "text": [
      "{'age': 45, 'birth_place': 'Ireland', 'occupation': 'farmer'}\n",
      "farmer\n"
     ]
    }
   ],
   "source": [
    "# Access data from our nested dictionary\n",
    "print(census_data[\"Patrick Murphy\"])\n",
    "print(census_data[\"Patrick Murphy\"][\"occupation\"])\n"
   ]
  },
  {
   "cell_type": "code",
   "execution_count": 84,
   "id": "acb632dd-906c-4ccb-b641-b5777312fe43",
   "metadata": {},
   "outputs": [],
   "source": [
    "# Here are our lists of data\n",
    "names = [\"Patrick Murphy\", \"Mary Kelly\", \"Thomas Williams\", \"Elizabeth Smith\", \"Michael Sullivan\",\n",
    "         \"Anna Schmidt\", \"William Johnson\", \"James O'Connor\", \"Bridget Walsh\", \"Robert Campbell\",\n",
    "         \"Catherine Miller\", \"George Thompson\", \"Sean O'Neill\", \"David Jones\", \"Kevin Burke\",\n",
    "         \"Margaret Wilson\", \"Donald Fraser\", \"Eileen Doyle\", \"Frieda Weber\", \"Timothy Ryan\"]\n",
    "\n",
    "ages = [45, 23, 16, 34, 64, 28, 42, 31, 27, 38, 17, 52, 29, 44, 33, 15, 61, 36, 18, 41]\n",
    "\n",
    "birth_places = ['Ireland', 'Ireland', 'New York', 'England', 'Ireland', 'Germany', 'New York',\n",
    "               'Ireland', 'Ireland', 'Scotland', 'Ireland', 'England', 'Ireland', 'Wales',\n",
    "               'Ireland', 'Ireland', 'Scotland', 'Ireland', 'Germany', 'Ireland']\n",
    "\n",
    "occupations = ['farmer', 'servant', 'laborer', 'merchant', 'farmer', 'servant', 'teacher', 'farmer',\n",
    "              'laborer', 'merchant', 'servant', 'farmer', 'laborer', 'blacksmith', 'carpenter',\n",
    "              'servant', 'farmer', 'weaver', 'servant', 'carpenter']\n"
   ]
  },
  {
   "cell_type": "code",
   "execution_count": 88,
   "id": "f0a2675e-a405-41c1-968f-ebc03843ddd1",
   "metadata": {},
   "outputs": [],
   "source": [
    "# Start with an empty dictionary\n",
    "auto_census = {}\n",
    "\n",
    "# Loop through the lists to create our nested dictionary\n",
    "for i in range(len(names)):\n",
    "    # Extract the data for this person and temporarily put the data into a series of variables\n",
    "    name = names[i]\n",
    "    age = ages[i]\n",
    "    birth_place = birth_places[i]\n",
    "    occupation = occupations[i]\n",
    "\n",
    "    # Create the nested dictionary for this person\n",
    "    auto_census[name] = {\n",
    "        \"age\": age,\n",
    "        \"birth_place\": birth_place,\n",
    "        \"occupation\": occupation\n",
    "    }\n"
   ]
  },
  {
   "cell_type": "code",
   "execution_count": 90,
   "id": "9f0335aa-d99c-4aa4-b537-66c502294b8b",
   "metadata": {},
   "outputs": [
    {
     "data": {
      "text/plain": [
       "{'Patrick Murphy': {'age': 45,\n",
       "  'birth_place': 'Ireland',\n",
       "  'occupation': 'farmer'},\n",
       " 'Mary Kelly': {'age': 23, 'birth_place': 'Ireland', 'occupation': 'servant'},\n",
       " 'Thomas Williams': {'age': 16,\n",
       "  'birth_place': 'New York',\n",
       "  'occupation': 'laborer'},\n",
       " 'Elizabeth Smith': {'age': 34,\n",
       "  'birth_place': 'England',\n",
       "  'occupation': 'merchant'},\n",
       " 'Michael Sullivan': {'age': 64,\n",
       "  'birth_place': 'Ireland',\n",
       "  'occupation': 'farmer'},\n",
       " 'Anna Schmidt': {'age': 28,\n",
       "  'birth_place': 'Germany',\n",
       "  'occupation': 'servant'},\n",
       " 'William Johnson': {'age': 42,\n",
       "  'birth_place': 'New York',\n",
       "  'occupation': 'teacher'},\n",
       " \"James O'Connor\": {'age': 31,\n",
       "  'birth_place': 'Ireland',\n",
       "  'occupation': 'farmer'},\n",
       " 'Bridget Walsh': {'age': 27,\n",
       "  'birth_place': 'Ireland',\n",
       "  'occupation': 'laborer'},\n",
       " 'Robert Campbell': {'age': 38,\n",
       "  'birth_place': 'Scotland',\n",
       "  'occupation': 'merchant'},\n",
       " 'Catherine Miller': {'age': 17,\n",
       "  'birth_place': 'Ireland',\n",
       "  'occupation': 'servant'},\n",
       " 'George Thompson': {'age': 52,\n",
       "  'birth_place': 'England',\n",
       "  'occupation': 'farmer'},\n",
       " \"Sean O'Neill\": {'age': 29,\n",
       "  'birth_place': 'Ireland',\n",
       "  'occupation': 'laborer'},\n",
       " 'David Jones': {'age': 44,\n",
       "  'birth_place': 'Wales',\n",
       "  'occupation': 'blacksmith'},\n",
       " 'Kevin Burke': {'age': 33,\n",
       "  'birth_place': 'Ireland',\n",
       "  'occupation': 'carpenter'},\n",
       " 'Margaret Wilson': {'age': 15,\n",
       "  'birth_place': 'Ireland',\n",
       "  'occupation': 'servant'},\n",
       " 'Donald Fraser': {'age': 61,\n",
       "  'birth_place': 'Scotland',\n",
       "  'occupation': 'farmer'},\n",
       " 'Eileen Doyle': {'age': 36, 'birth_place': 'Ireland', 'occupation': 'weaver'},\n",
       " 'Frieda Weber': {'age': 18,\n",
       "  'birth_place': 'Germany',\n",
       "  'occupation': 'servant'},\n",
       " 'Timothy Ryan': {'age': 41,\n",
       "  'birth_place': 'Ireland',\n",
       "  'occupation': 'carpenter'}}"
      ]
     },
     "execution_count": 90,
     "metadata": {},
     "output_type": "execute_result"
    }
   ],
   "source": [
    "auto_census"
   ]
  },
  {
   "cell_type": "code",
   "execution_count": null,
   "id": "a8c971df-d2b1-4813-8d9f-a8d07d7cf5b8",
   "metadata": {},
   "outputs": [],
   "source": []
  }
 ],
 "metadata": {
  "kernelspec": {
   "display_name": "Python [conda env:base] *",
   "language": "python",
   "name": "conda-base-py"
  },
  "language_info": {
   "codemirror_mode": {
    "name": "ipython",
    "version": 3
   },
   "file_extension": ".py",
   "mimetype": "text/x-python",
   "name": "python",
   "nbconvert_exporter": "python",
   "pygments_lexer": "ipython3",
   "version": "3.12.7"
  }
 },
 "nbformat": 4,
 "nbformat_minor": 5
}

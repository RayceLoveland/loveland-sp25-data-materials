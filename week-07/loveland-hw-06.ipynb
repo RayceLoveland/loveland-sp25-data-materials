{
 "cells": [
  {
   "cell_type": "markdown",
   "id": "4b5b7255",
   "metadata": {},
   "source": [
    "# Homework 06\n"
   ]
  },
  {
   "cell_type": "markdown",
   "id": "b45e3a2a",
   "metadata": {},
   "source": [
    "### ⚠️ Before you start ⚠️\n",
    "\n",
    "_Duplicate this Jupyter Notebook in your `week-07` folder (right-click -> Duplicate) and then add your last name to the beginning of it (ie. `blevins-hw-06.ipynb` - otherwise you risk having all your work overwritten when you try to sync your GitHub repository with your instructor's repository._\n"
   ]
  },
  {
   "cell_type": "markdown",
   "id": "76c93e69-63e5-478b-90a9-95ac5a016ca8",
   "metadata": {
    "tags": []
   },
   "source": [
    "---\n",
    "Student Name: Rayce Loveland\n",
    "---\n"
   ]
  },
  {
   "cell_type": "markdown",
   "id": "25cb975d-ea40-4826-9879-5bc8bc8b56c3",
   "metadata": {
    "tags": []
   },
   "source": [
    "## Overview\n",
    "\n",
    "This homework assignment will help you learn how to use the Pandas library to explore tabular data by applying some of the concepts and lessons from Melanie Walsh, [Pandas I](https://info1350.github.io/Intro-CA-SP21/03-Data-Analysis/01-Pandas-Basics-Part1.html) to a new dataset.\n"
   ]
  },
  {
   "cell_type": "markdown",
   "id": "1b3b7714",
   "metadata": {},
   "source": [
    "This week we're going to use a spreadsheet of historical data transcribed by CU Denver history major Ryan Hanlon as part of his final project for the course Introduction to Digital Studies in Spring 2021. The data consists of a passenger list from a steamship that arrived in Boston on April 9, 1884 carrying several hundred immigrants.\n",
    "\n",
    "<div align=\"center\">\n",
    "  <img\n",
    "    src=\"grecian.jpg\"\n",
    "    width=\"60%\"\n",
    "    style=\"border: 2px solid\"\n",
    "    alt=\"Description of image\"\n",
    "  />\n",
    "  <figcaption style=\"font-style: italic\">\n",
    "    The Steamship Grecian\n",
    "  </figcaption>\n",
    "</div>\n"
   ]
  },
  {
   "cell_type": "markdown",
   "id": "392b29fe",
   "metadata": {},
   "source": [
    "The nine-page passenger list from the _Steamship Grecian_ was submitted to authorities at the Port of Boston. This document was later scanned by the Church of Latter Day Saints and made available through its FamilySearch online archive.\n",
    "\n",
    "<div align=\"center\">\n",
    "  <img\n",
    "    src=\"passenger-list-page.jpeg\"\n",
    "    width=\"40%\"\n",
    "    style=\"border: 2px solid\"\n",
    "    alt=\"Description of image\"\n",
    "  />\n",
    "  <figcaption style=\"font-style: italic\">\n",
    "    Passenger list from the Steamship Grecian\n",
    "  </figcaption>\n",
    "</div>\n"
   ]
  },
  {
   "cell_type": "markdown",
   "id": "ff8b1a92",
   "metadata": {},
   "source": [
    "Ryan then transcribed the data in Spring 2021 into a spreadsheet formatted as a CSV (comma separated value) file contained in this folder: `boston-passenger-list-1884.csv`.\n",
    "\n",
    "For this homework, you will be following many of Melanie Walsh's steps in [Pandas I](https://info1350.github.io/Intro-CA-SP21/03-Data-Analysis/01-Pandas-Basics-Part1.html) and then adapting them to fit this new dataset.\n",
    "\n",
    "---\n"
   ]
  },
  {
   "cell_type": "markdown",
   "id": "dfdad06b-b2c0-4971-9b02-3df9883ea90d",
   "metadata": {},
   "source": [
    "1. Import the Pandas library (use the alias `pd`) and read in the CSV file, storing the contents of the file as a dataframe named `passengers_df`. Add a second line of code to display the contents of the dataframe (truncated).\n"
   ]
  },
  {
   "cell_type": "code",
   "execution_count": 9,
   "id": "9f340f81-2b12-4404-ad6e-2c17003ac5b4",
   "metadata": {},
   "outputs": [
    {
     "data": {
      "text/html": [
       "<div>\n",
       "<style scoped>\n",
       "    .dataframe tbody tr th:only-of-type {\n",
       "        vertical-align: middle;\n",
       "    }\n",
       "\n",
       "    .dataframe tbody tr th {\n",
       "        vertical-align: top;\n",
       "    }\n",
       "\n",
       "    .dataframe thead th {\n",
       "        text-align: right;\n",
       "    }\n",
       "</style>\n",
       "<table border=\"1\" class=\"dataframe\">\n",
       "  <thead>\n",
       "    <tr style=\"text-align: right;\">\n",
       "      <th></th>\n",
       "      <th>first_name</th>\n",
       "      <th>last_name</th>\n",
       "      <th>date</th>\n",
       "      <th>age</th>\n",
       "      <th>native_country</th>\n",
       "      <th>destination_city</th>\n",
       "      <th>destination_state</th>\n",
       "      <th>occupation</th>\n",
       "      <th>ship</th>\n",
       "    </tr>\n",
       "  </thead>\n",
       "  <tbody>\n",
       "    <tr>\n",
       "      <th>0</th>\n",
       "      <td>Jno</td>\n",
       "      <td>McNab</td>\n",
       "      <td>09 Apr 1884</td>\n",
       "      <td>21</td>\n",
       "      <td>Scotland</td>\n",
       "      <td>Suelpla</td>\n",
       "      <td>Canada</td>\n",
       "      <td>Farmer</td>\n",
       "      <td>Steamship Grecian</td>\n",
       "    </tr>\n",
       "    <tr>\n",
       "      <th>1</th>\n",
       "      <td>Thos</td>\n",
       "      <td>Campbell</td>\n",
       "      <td>09 Apr 1884</td>\n",
       "      <td>24</td>\n",
       "      <td>Scotland</td>\n",
       "      <td>Suelpla</td>\n",
       "      <td>Canada</td>\n",
       "      <td>Farmer</td>\n",
       "      <td>Steamship Grecian</td>\n",
       "    </tr>\n",
       "    <tr>\n",
       "      <th>2</th>\n",
       "      <td>Jas</td>\n",
       "      <td>Mitchell</td>\n",
       "      <td>09 Apr 1884</td>\n",
       "      <td>23</td>\n",
       "      <td>Scotland</td>\n",
       "      <td>Detroit</td>\n",
       "      <td>MI</td>\n",
       "      <td>Farmer</td>\n",
       "      <td>Steamship Grecian</td>\n",
       "    </tr>\n",
       "    <tr>\n",
       "      <th>3</th>\n",
       "      <td>Don</td>\n",
       "      <td>Cumming</td>\n",
       "      <td>09 Apr 1884</td>\n",
       "      <td>24</td>\n",
       "      <td>Scotland</td>\n",
       "      <td>Detroit</td>\n",
       "      <td>MI</td>\n",
       "      <td>Blacksmith</td>\n",
       "      <td>Steamship Grecian</td>\n",
       "    </tr>\n",
       "    <tr>\n",
       "      <th>4</th>\n",
       "      <td>Jno</td>\n",
       "      <td>McKinlay</td>\n",
       "      <td>09 Apr 1884</td>\n",
       "      <td>24</td>\n",
       "      <td>Scotland</td>\n",
       "      <td>Winnipeg</td>\n",
       "      <td>Canada</td>\n",
       "      <td>Farmer</td>\n",
       "      <td>Steamship Grecian</td>\n",
       "    </tr>\n",
       "    <tr>\n",
       "      <th>...</th>\n",
       "      <td>...</td>\n",
       "      <td>...</td>\n",
       "      <td>...</td>\n",
       "      <td>...</td>\n",
       "      <td>...</td>\n",
       "      <td>...</td>\n",
       "      <td>...</td>\n",
       "      <td>...</td>\n",
       "      <td>...</td>\n",
       "    </tr>\n",
       "    <tr>\n",
       "      <th>510</th>\n",
       "      <td>Mich</td>\n",
       "      <td>Mulkern</td>\n",
       "      <td>09 Apr 1884</td>\n",
       "      <td>15</td>\n",
       "      <td>Ireland</td>\n",
       "      <td>Boston</td>\n",
       "      <td>MA</td>\n",
       "      <td>Laborer</td>\n",
       "      <td>Steamship Grecian</td>\n",
       "    </tr>\n",
       "    <tr>\n",
       "      <th>511</th>\n",
       "      <td>Math</td>\n",
       "      <td>Griffins</td>\n",
       "      <td>09 Apr 1884</td>\n",
       "      <td>2</td>\n",
       "      <td>Ireland</td>\n",
       "      <td>Pittsburg</td>\n",
       "      <td>PA</td>\n",
       "      <td>Child</td>\n",
       "      <td>Steamship Grecian</td>\n",
       "    </tr>\n",
       "    <tr>\n",
       "      <th>512</th>\n",
       "      <td>T</td>\n",
       "      <td>McDermott</td>\n",
       "      <td>09 Apr 1884</td>\n",
       "      <td>35</td>\n",
       "      <td>United States</td>\n",
       "      <td>Boston</td>\n",
       "      <td>MA</td>\n",
       "      <td>Boatman</td>\n",
       "      <td>Steamship Grecian</td>\n",
       "    </tr>\n",
       "    <tr>\n",
       "      <th>513</th>\n",
       "      <td>Wm</td>\n",
       "      <td>Hewitt</td>\n",
       "      <td>09 Apr 1884</td>\n",
       "      <td>25</td>\n",
       "      <td>United States</td>\n",
       "      <td>Boston</td>\n",
       "      <td>MA</td>\n",
       "      <td>Boatman</td>\n",
       "      <td>Steamship Grecian</td>\n",
       "    </tr>\n",
       "    <tr>\n",
       "      <th>514</th>\n",
       "      <td>F</td>\n",
       "      <td>Doherty</td>\n",
       "      <td>09 Apr 1884</td>\n",
       "      <td>27</td>\n",
       "      <td>United States</td>\n",
       "      <td>Boston</td>\n",
       "      <td>MA</td>\n",
       "      <td>Boatman</td>\n",
       "      <td>Steamship Grecian</td>\n",
       "    </tr>\n",
       "  </tbody>\n",
       "</table>\n",
       "<p>515 rows × 9 columns</p>\n",
       "</div>"
      ],
      "text/plain": [
       "    first_name  last_name         date  age native_country destination_city  \\\n",
       "0          Jno      McNab  09 Apr 1884   21       Scotland          Suelpla   \n",
       "1         Thos   Campbell  09 Apr 1884   24       Scotland          Suelpla   \n",
       "2          Jas   Mitchell  09 Apr 1884   23       Scotland          Detroit   \n",
       "3          Don    Cumming  09 Apr 1884   24       Scotland          Detroit   \n",
       "4          Jno   McKinlay  09 Apr 1884   24       Scotland         Winnipeg   \n",
       "..         ...        ...          ...  ...            ...              ...   \n",
       "510       Mich    Mulkern  09 Apr 1884   15        Ireland           Boston   \n",
       "511       Math   Griffins  09 Apr 1884    2        Ireland        Pittsburg   \n",
       "512          T  McDermott  09 Apr 1884   35  United States           Boston   \n",
       "513         Wm     Hewitt  09 Apr 1884   25  United States           Boston   \n",
       "514          F    Doherty  09 Apr 1884   27  United States           Boston   \n",
       "\n",
       "    destination_state  occupation               ship  \n",
       "0              Canada      Farmer  Steamship Grecian  \n",
       "1              Canada      Farmer  Steamship Grecian  \n",
       "2                  MI      Farmer  Steamship Grecian  \n",
       "3                  MI  Blacksmith  Steamship Grecian  \n",
       "4              Canada      Farmer  Steamship Grecian  \n",
       "..                ...         ...                ...  \n",
       "510                MA     Laborer  Steamship Grecian  \n",
       "511                PA       Child  Steamship Grecian  \n",
       "512                MA     Boatman  Steamship Grecian  \n",
       "513                MA     Boatman  Steamship Grecian  \n",
       "514                MA     Boatman  Steamship Grecian  \n",
       "\n",
       "[515 rows x 9 columns]"
      ]
     },
     "execution_count": 9,
     "metadata": {},
     "output_type": "execute_result"
    }
   ],
   "source": [
    "#Your Code Here\n",
    "import pandas as pd\n",
    "\n",
    "passengers_df = pd.read_csv('boston-passenger-list-1884.csv', delimiter=\",\")\n",
    "passengers_df"
   ]
  },
  {
   "cell_type": "markdown",
   "id": "bf0b7f3f-33d5-415e-b484-353aeba009a9",
   "metadata": {},
   "source": [
    "2. Display the **first 6 rows** of the dataframe.\n"
   ]
  },
  {
   "cell_type": "code",
   "execution_count": 11,
   "id": "3f28a94c-869c-4e93-b7a3-a47dc8b7cdd1",
   "metadata": {},
   "outputs": [
    {
     "data": {
      "text/html": [
       "<div>\n",
       "<style scoped>\n",
       "    .dataframe tbody tr th:only-of-type {\n",
       "        vertical-align: middle;\n",
       "    }\n",
       "\n",
       "    .dataframe tbody tr th {\n",
       "        vertical-align: top;\n",
       "    }\n",
       "\n",
       "    .dataframe thead th {\n",
       "        text-align: right;\n",
       "    }\n",
       "</style>\n",
       "<table border=\"1\" class=\"dataframe\">\n",
       "  <thead>\n",
       "    <tr style=\"text-align: right;\">\n",
       "      <th></th>\n",
       "      <th>first_name</th>\n",
       "      <th>last_name</th>\n",
       "      <th>date</th>\n",
       "      <th>age</th>\n",
       "      <th>native_country</th>\n",
       "      <th>destination_city</th>\n",
       "      <th>destination_state</th>\n",
       "      <th>occupation</th>\n",
       "      <th>ship</th>\n",
       "    </tr>\n",
       "  </thead>\n",
       "  <tbody>\n",
       "    <tr>\n",
       "      <th>0</th>\n",
       "      <td>Jno</td>\n",
       "      <td>McNab</td>\n",
       "      <td>09 Apr 1884</td>\n",
       "      <td>21</td>\n",
       "      <td>Scotland</td>\n",
       "      <td>Suelpla</td>\n",
       "      <td>Canada</td>\n",
       "      <td>Farmer</td>\n",
       "      <td>Steamship Grecian</td>\n",
       "    </tr>\n",
       "    <tr>\n",
       "      <th>1</th>\n",
       "      <td>Thos</td>\n",
       "      <td>Campbell</td>\n",
       "      <td>09 Apr 1884</td>\n",
       "      <td>24</td>\n",
       "      <td>Scotland</td>\n",
       "      <td>Suelpla</td>\n",
       "      <td>Canada</td>\n",
       "      <td>Farmer</td>\n",
       "      <td>Steamship Grecian</td>\n",
       "    </tr>\n",
       "    <tr>\n",
       "      <th>2</th>\n",
       "      <td>Jas</td>\n",
       "      <td>Mitchell</td>\n",
       "      <td>09 Apr 1884</td>\n",
       "      <td>23</td>\n",
       "      <td>Scotland</td>\n",
       "      <td>Detroit</td>\n",
       "      <td>MI</td>\n",
       "      <td>Farmer</td>\n",
       "      <td>Steamship Grecian</td>\n",
       "    </tr>\n",
       "    <tr>\n",
       "      <th>3</th>\n",
       "      <td>Don</td>\n",
       "      <td>Cumming</td>\n",
       "      <td>09 Apr 1884</td>\n",
       "      <td>24</td>\n",
       "      <td>Scotland</td>\n",
       "      <td>Detroit</td>\n",
       "      <td>MI</td>\n",
       "      <td>Blacksmith</td>\n",
       "      <td>Steamship Grecian</td>\n",
       "    </tr>\n",
       "    <tr>\n",
       "      <th>4</th>\n",
       "      <td>Jno</td>\n",
       "      <td>McKinlay</td>\n",
       "      <td>09 Apr 1884</td>\n",
       "      <td>24</td>\n",
       "      <td>Scotland</td>\n",
       "      <td>Winnipeg</td>\n",
       "      <td>Canada</td>\n",
       "      <td>Farmer</td>\n",
       "      <td>Steamship Grecian</td>\n",
       "    </tr>\n",
       "    <tr>\n",
       "      <th>5</th>\n",
       "      <td>John</td>\n",
       "      <td>Wilson</td>\n",
       "      <td>09 Apr 1884</td>\n",
       "      <td>28</td>\n",
       "      <td>Scotland</td>\n",
       "      <td>Boston</td>\n",
       "      <td>MA</td>\n",
       "      <td>Farmer</td>\n",
       "      <td>Steamship Grecian</td>\n",
       "    </tr>\n",
       "  </tbody>\n",
       "</table>\n",
       "</div>"
      ],
      "text/plain": [
       "  first_name last_name         date  age native_country destination_city  \\\n",
       "0        Jno     McNab  09 Apr 1884   21       Scotland          Suelpla   \n",
       "1       Thos  Campbell  09 Apr 1884   24       Scotland          Suelpla   \n",
       "2        Jas  Mitchell  09 Apr 1884   23       Scotland          Detroit   \n",
       "3        Don   Cumming  09 Apr 1884   24       Scotland          Detroit   \n",
       "4        Jno  McKinlay  09 Apr 1884   24       Scotland         Winnipeg   \n",
       "5       John    Wilson  09 Apr 1884   28       Scotland           Boston   \n",
       "\n",
       "  destination_state  occupation               ship  \n",
       "0            Canada      Farmer  Steamship Grecian  \n",
       "1            Canada      Farmer  Steamship Grecian  \n",
       "2                MI      Farmer  Steamship Grecian  \n",
       "3                MI  Blacksmith  Steamship Grecian  \n",
       "4            Canada      Farmer  Steamship Grecian  \n",
       "5                MA      Farmer  Steamship Grecian  "
      ]
     },
     "execution_count": 11,
     "metadata": {},
     "output_type": "execute_result"
    }
   ],
   "source": [
    "#Your Code Here\n",
    "passengers_df.head(6)"
   ]
  },
  {
   "cell_type": "markdown",
   "id": "62c95d85-4543-4ee1-baae-eb1960b339f6",
   "metadata": {},
   "source": [
    "3. Show a **random sample of 10 rows** from your dataframe.\n"
   ]
  },
  {
   "cell_type": "code",
   "execution_count": 13,
   "id": "d44f8e7c-2ff0-4b9d-bbdc-8d6f2140b3de",
   "metadata": {
    "scrolled": true
   },
   "outputs": [
    {
     "data": {
      "text/html": [
       "<div>\n",
       "<style scoped>\n",
       "    .dataframe tbody tr th:only-of-type {\n",
       "        vertical-align: middle;\n",
       "    }\n",
       "\n",
       "    .dataframe tbody tr th {\n",
       "        vertical-align: top;\n",
       "    }\n",
       "\n",
       "    .dataframe thead th {\n",
       "        text-align: right;\n",
       "    }\n",
       "</style>\n",
       "<table border=\"1\" class=\"dataframe\">\n",
       "  <thead>\n",
       "    <tr style=\"text-align: right;\">\n",
       "      <th></th>\n",
       "      <th>first_name</th>\n",
       "      <th>last_name</th>\n",
       "      <th>date</th>\n",
       "      <th>age</th>\n",
       "      <th>native_country</th>\n",
       "      <th>destination_city</th>\n",
       "      <th>destination_state</th>\n",
       "      <th>occupation</th>\n",
       "      <th>ship</th>\n",
       "    </tr>\n",
       "  </thead>\n",
       "  <tbody>\n",
       "    <tr>\n",
       "      <th>297</th>\n",
       "      <td>Pat</td>\n",
       "      <td>Durstan</td>\n",
       "      <td>09 Apr 1884</td>\n",
       "      <td>17</td>\n",
       "      <td>Ireland</td>\n",
       "      <td>Providence</td>\n",
       "      <td>RI</td>\n",
       "      <td>Laborer</td>\n",
       "      <td>Steamship Grecian</td>\n",
       "    </tr>\n",
       "    <tr>\n",
       "      <th>66</th>\n",
       "      <td>Eliz</td>\n",
       "      <td>Caldwell</td>\n",
       "      <td>09 Apr 1884</td>\n",
       "      <td>40</td>\n",
       "      <td>Ireland</td>\n",
       "      <td>Boston</td>\n",
       "      <td>MA</td>\n",
       "      <td>Domestic</td>\n",
       "      <td>Steamship Grecian</td>\n",
       "    </tr>\n",
       "    <tr>\n",
       "      <th>343</th>\n",
       "      <td>Bgt</td>\n",
       "      <td>McDonough</td>\n",
       "      <td>09 Apr 1884</td>\n",
       "      <td>44</td>\n",
       "      <td>Ireland</td>\n",
       "      <td>Brooklyn</td>\n",
       "      <td>NY</td>\n",
       "      <td>Wife</td>\n",
       "      <td>Steamship Grecian</td>\n",
       "    </tr>\n",
       "    <tr>\n",
       "      <th>418</th>\n",
       "      <td>Thos</td>\n",
       "      <td>Mitchell</td>\n",
       "      <td>09 Apr 1884</td>\n",
       "      <td>34</td>\n",
       "      <td>Ireland</td>\n",
       "      <td>Boston</td>\n",
       "      <td>MA</td>\n",
       "      <td>Laborer</td>\n",
       "      <td>Steamship Grecian</td>\n",
       "    </tr>\n",
       "    <tr>\n",
       "      <th>16</th>\n",
       "      <td>John</td>\n",
       "      <td>Little</td>\n",
       "      <td>09 Apr 1884</td>\n",
       "      <td>26</td>\n",
       "      <td>Scotland</td>\n",
       "      <td>Woodstock</td>\n",
       "      <td>VT</td>\n",
       "      <td>Laborer</td>\n",
       "      <td>Steamship Grecian</td>\n",
       "    </tr>\n",
       "    <tr>\n",
       "      <th>302</th>\n",
       "      <td>John</td>\n",
       "      <td>Parsons</td>\n",
       "      <td>09 Apr 1884</td>\n",
       "      <td>30</td>\n",
       "      <td>Ireland</td>\n",
       "      <td>Chicago</td>\n",
       "      <td>IL</td>\n",
       "      <td>Laborer</td>\n",
       "      <td>Steamship Grecian</td>\n",
       "    </tr>\n",
       "    <tr>\n",
       "      <th>111</th>\n",
       "      <td>Robt</td>\n",
       "      <td>Gilmore</td>\n",
       "      <td>09 Apr 1884</td>\n",
       "      <td>25</td>\n",
       "      <td>Ireland</td>\n",
       "      <td>Boston</td>\n",
       "      <td>MA</td>\n",
       "      <td>Laborer</td>\n",
       "      <td>Steamship Grecian</td>\n",
       "    </tr>\n",
       "    <tr>\n",
       "      <th>68</th>\n",
       "      <td>Jas</td>\n",
       "      <td>Gallagher</td>\n",
       "      <td>09 Apr 1884</td>\n",
       "      <td>46</td>\n",
       "      <td>Ireland</td>\n",
       "      <td>Boston</td>\n",
       "      <td>MA</td>\n",
       "      <td>Laborer</td>\n",
       "      <td>Steamship Grecian</td>\n",
       "    </tr>\n",
       "    <tr>\n",
       "      <th>177</th>\n",
       "      <td>Kate</td>\n",
       "      <td>Mellett</td>\n",
       "      <td>09 Apr 1884</td>\n",
       "      <td>18</td>\n",
       "      <td>Ireland</td>\n",
       "      <td>Taunton</td>\n",
       "      <td>MA</td>\n",
       "      <td>Domestic</td>\n",
       "      <td>Steamship Grecian</td>\n",
       "    </tr>\n",
       "    <tr>\n",
       "      <th>452</th>\n",
       "      <td>Margt</td>\n",
       "      <td>Griffin</td>\n",
       "      <td>09 Apr 1884</td>\n",
       "      <td>17</td>\n",
       "      <td>Ireland</td>\n",
       "      <td>Pittsburg</td>\n",
       "      <td>PA</td>\n",
       "      <td>Domestic</td>\n",
       "      <td>Steamship Grecian</td>\n",
       "    </tr>\n",
       "  </tbody>\n",
       "</table>\n",
       "</div>"
      ],
      "text/plain": [
       "    first_name  last_name         date  age native_country destination_city  \\\n",
       "297        Pat    Durstan  09 Apr 1884   17        Ireland       Providence   \n",
       "66        Eliz   Caldwell  09 Apr 1884   40        Ireland           Boston   \n",
       "343        Bgt  McDonough  09 Apr 1884   44        Ireland         Brooklyn   \n",
       "418       Thos   Mitchell  09 Apr 1884   34        Ireland           Boston   \n",
       "16        John     Little  09 Apr 1884   26       Scotland        Woodstock   \n",
       "302       John    Parsons  09 Apr 1884   30        Ireland          Chicago   \n",
       "111       Robt    Gilmore  09 Apr 1884   25        Ireland           Boston   \n",
       "68         Jas  Gallagher  09 Apr 1884   46        Ireland           Boston   \n",
       "177       Kate    Mellett  09 Apr 1884   18        Ireland          Taunton   \n",
       "452      Margt    Griffin  09 Apr 1884   17        Ireland        Pittsburg   \n",
       "\n",
       "    destination_state occupation               ship  \n",
       "297                RI    Laborer  Steamship Grecian  \n",
       "66                 MA   Domestic  Steamship Grecian  \n",
       "343                NY       Wife  Steamship Grecian  \n",
       "418                MA    Laborer  Steamship Grecian  \n",
       "16                 VT    Laborer  Steamship Grecian  \n",
       "302                IL    Laborer  Steamship Grecian  \n",
       "111                MA    Laborer  Steamship Grecian  \n",
       "68                 MA    Laborer  Steamship Grecian  \n",
       "177                MA   Domestic  Steamship Grecian  \n",
       "452                PA   Domestic  Steamship Grecian  "
      ]
     },
     "execution_count": 13,
     "metadata": {},
     "output_type": "execute_result"
    }
   ],
   "source": [
    "#Your Code Here\n",
    "passengers_df.sample(10)"
   ]
  },
  {
   "cell_type": "markdown",
   "id": "8de01b35-056f-449d-9c36-1ee37039ab61",
   "metadata": {},
   "source": [
    "4. What are **two historical questions** about this list of passengers that you might be able to answer using Pandas?\n"
   ]
  },
  {
   "cell_type": "markdown",
   "id": "e481cd00-22da-49e7-b29f-66574e2643aa",
   "metadata": {},
   "source": [
    "_Your answer here._\n",
    "\n",
    "1. Pandas can help determine where most migrants migrated to and where most migrants emigrated from.\n",
    "2. Another thing Pandas could help answer using this dataset is what these occupations were for these immigrants coming to the Americas."
   ]
  },
  {
   "cell_type": "markdown",
   "id": "d411ac05-ff3f-45cc-9e1a-709ea68f5387",
   "metadata": {},
   "source": [
    "## Analyzing the Data\n"
   ]
  },
  {
   "cell_type": "markdown",
   "id": "421c48fa-2e5f-487a-bc4f-3c5dba3ffef6",
   "metadata": {},
   "source": [
    "5. Calculate \"summary statistics\" for the passenger data.\n"
   ]
  },
  {
   "cell_type": "code",
   "execution_count": 18,
   "id": "c9e0047b-67f2-4685-9e47-8df6fe77a4fc",
   "metadata": {},
   "outputs": [
    {
     "data": {
      "text/html": [
       "<div>\n",
       "<style scoped>\n",
       "    .dataframe tbody tr th:only-of-type {\n",
       "        vertical-align: middle;\n",
       "    }\n",
       "\n",
       "    .dataframe tbody tr th {\n",
       "        vertical-align: top;\n",
       "    }\n",
       "\n",
       "    .dataframe thead th {\n",
       "        text-align: right;\n",
       "    }\n",
       "</style>\n",
       "<table border=\"1\" class=\"dataframe\">\n",
       "  <thead>\n",
       "    <tr style=\"text-align: right;\">\n",
       "      <th></th>\n",
       "      <th>first_name</th>\n",
       "      <th>last_name</th>\n",
       "      <th>date</th>\n",
       "      <th>age</th>\n",
       "      <th>native_country</th>\n",
       "      <th>destination_city</th>\n",
       "      <th>destination_state</th>\n",
       "      <th>occupation</th>\n",
       "      <th>ship</th>\n",
       "    </tr>\n",
       "  </thead>\n",
       "  <tbody>\n",
       "    <tr>\n",
       "      <th>count</th>\n",
       "      <td>512</td>\n",
       "      <td>515</td>\n",
       "      <td>515</td>\n",
       "      <td>515.000000</td>\n",
       "      <td>515</td>\n",
       "      <td>515</td>\n",
       "      <td>515</td>\n",
       "      <td>515</td>\n",
       "      <td>515</td>\n",
       "    </tr>\n",
       "    <tr>\n",
       "      <th>unique</th>\n",
       "      <td>102</td>\n",
       "      <td>170</td>\n",
       "      <td>1</td>\n",
       "      <td>NaN</td>\n",
       "      <td>3</td>\n",
       "      <td>56</td>\n",
       "      <td>21</td>\n",
       "      <td>9</td>\n",
       "      <td>1</td>\n",
       "    </tr>\n",
       "    <tr>\n",
       "      <th>top</th>\n",
       "      <td>Mary</td>\n",
       "      <td>Doherty</td>\n",
       "      <td>09 Apr 1884</td>\n",
       "      <td>NaN</td>\n",
       "      <td>Ireland</td>\n",
       "      <td>Boston</td>\n",
       "      <td>MA</td>\n",
       "      <td>Laborer</td>\n",
       "      <td>Steamship Grecian</td>\n",
       "    </tr>\n",
       "    <tr>\n",
       "      <th>freq</th>\n",
       "      <td>59</td>\n",
       "      <td>12</td>\n",
       "      <td>515</td>\n",
       "      <td>NaN</td>\n",
       "      <td>461</td>\n",
       "      <td>107</td>\n",
       "      <td>134</td>\n",
       "      <td>189</td>\n",
       "      <td>515</td>\n",
       "    </tr>\n",
       "    <tr>\n",
       "      <th>mean</th>\n",
       "      <td>NaN</td>\n",
       "      <td>NaN</td>\n",
       "      <td>NaN</td>\n",
       "      <td>21.440777</td>\n",
       "      <td>NaN</td>\n",
       "      <td>NaN</td>\n",
       "      <td>NaN</td>\n",
       "      <td>NaN</td>\n",
       "      <td>NaN</td>\n",
       "    </tr>\n",
       "    <tr>\n",
       "      <th>std</th>\n",
       "      <td>NaN</td>\n",
       "      <td>NaN</td>\n",
       "      <td>NaN</td>\n",
       "      <td>13.115392</td>\n",
       "      <td>NaN</td>\n",
       "      <td>NaN</td>\n",
       "      <td>NaN</td>\n",
       "      <td>NaN</td>\n",
       "      <td>NaN</td>\n",
       "    </tr>\n",
       "    <tr>\n",
       "      <th>min</th>\n",
       "      <td>NaN</td>\n",
       "      <td>NaN</td>\n",
       "      <td>NaN</td>\n",
       "      <td>0.000000</td>\n",
       "      <td>NaN</td>\n",
       "      <td>NaN</td>\n",
       "      <td>NaN</td>\n",
       "      <td>NaN</td>\n",
       "      <td>NaN</td>\n",
       "    </tr>\n",
       "    <tr>\n",
       "      <th>25%</th>\n",
       "      <td>NaN</td>\n",
       "      <td>NaN</td>\n",
       "      <td>NaN</td>\n",
       "      <td>11.000000</td>\n",
       "      <td>NaN</td>\n",
       "      <td>NaN</td>\n",
       "      <td>NaN</td>\n",
       "      <td>NaN</td>\n",
       "      <td>NaN</td>\n",
       "    </tr>\n",
       "    <tr>\n",
       "      <th>50%</th>\n",
       "      <td>NaN</td>\n",
       "      <td>NaN</td>\n",
       "      <td>NaN</td>\n",
       "      <td>20.000000</td>\n",
       "      <td>NaN</td>\n",
       "      <td>NaN</td>\n",
       "      <td>NaN</td>\n",
       "      <td>NaN</td>\n",
       "      <td>NaN</td>\n",
       "    </tr>\n",
       "    <tr>\n",
       "      <th>75%</th>\n",
       "      <td>NaN</td>\n",
       "      <td>NaN</td>\n",
       "      <td>NaN</td>\n",
       "      <td>28.000000</td>\n",
       "      <td>NaN</td>\n",
       "      <td>NaN</td>\n",
       "      <td>NaN</td>\n",
       "      <td>NaN</td>\n",
       "      <td>NaN</td>\n",
       "    </tr>\n",
       "    <tr>\n",
       "      <th>max</th>\n",
       "      <td>NaN</td>\n",
       "      <td>NaN</td>\n",
       "      <td>NaN</td>\n",
       "      <td>64.000000</td>\n",
       "      <td>NaN</td>\n",
       "      <td>NaN</td>\n",
       "      <td>NaN</td>\n",
       "      <td>NaN</td>\n",
       "      <td>NaN</td>\n",
       "    </tr>\n",
       "  </tbody>\n",
       "</table>\n",
       "</div>"
      ],
      "text/plain": [
       "       first_name last_name         date         age native_country  \\\n",
       "count         512       515          515  515.000000            515   \n",
       "unique        102       170            1         NaN              3   \n",
       "top          Mary   Doherty  09 Apr 1884         NaN        Ireland   \n",
       "freq           59        12          515         NaN            461   \n",
       "mean          NaN       NaN          NaN   21.440777            NaN   \n",
       "std           NaN       NaN          NaN   13.115392            NaN   \n",
       "min           NaN       NaN          NaN    0.000000            NaN   \n",
       "25%           NaN       NaN          NaN   11.000000            NaN   \n",
       "50%           NaN       NaN          NaN   20.000000            NaN   \n",
       "75%           NaN       NaN          NaN   28.000000            NaN   \n",
       "max           NaN       NaN          NaN   64.000000            NaN   \n",
       "\n",
       "       destination_city destination_state occupation               ship  \n",
       "count               515               515        515                515  \n",
       "unique               56                21          9                  1  \n",
       "top              Boston                MA    Laborer  Steamship Grecian  \n",
       "freq                107               134        189                515  \n",
       "mean                NaN               NaN        NaN                NaN  \n",
       "std                 NaN               NaN        NaN                NaN  \n",
       "min                 NaN               NaN        NaN                NaN  \n",
       "25%                 NaN               NaN        NaN                NaN  \n",
       "50%                 NaN               NaN        NaN                NaN  \n",
       "75%                 NaN               NaN        NaN                NaN  \n",
       "max                 NaN               NaN        NaN                NaN  "
      ]
     },
     "execution_count": 18,
     "metadata": {},
     "output_type": "execute_result"
    }
   ],
   "source": [
    "#Your Code Here\n",
    "passengers_df.describe(include='all')"
   ]
  },
  {
   "cell_type": "code",
   "execution_count": 19,
   "id": "9c7dfd61-e7a2-48c9-adb5-47adb480983b",
   "metadata": {},
   "outputs": [
    {
     "data": {
      "text/plain": [
       "last_name\n",
       "Doherty    12\n",
       "Name: count, dtype: int64"
      ]
     },
     "execution_count": 19,
     "metadata": {},
     "output_type": "execute_result"
    }
   ],
   "source": [
    "passengers_df['last_name'].value_counts().head(1)"
   ]
  },
  {
   "cell_type": "code",
   "execution_count": 20,
   "id": "c7653014-f1bb-4502-9b24-26e9557371bf",
   "metadata": {},
   "outputs": [
    {
     "data": {
      "text/plain": [
       "occupation\n",
       "Laborer       189\n",
       "Child         132\n",
       "Domestic      116\n",
       "Wife           64\n",
       "Farmer          8\n",
       "Boatman         3\n",
       "Blacksmith      1\n",
       "Miller          1\n",
       "Clerk           1\n",
       "Name: count, dtype: int64"
      ]
     },
     "execution_count": 20,
     "metadata": {},
     "output_type": "execute_result"
    }
   ],
   "source": [
    "passengers_df['occupation'].value_counts()"
   ]
  },
  {
   "cell_type": "code",
   "execution_count": 21,
   "id": "853006ab-62b4-49a8-95f7-c518ba908e48",
   "metadata": {},
   "outputs": [
    {
     "data": {
      "text/plain": [
       "64"
      ]
     },
     "execution_count": 21,
     "metadata": {},
     "output_type": "execute_result"
    }
   ],
   "source": [
    "passengers_df['age'].max()"
   ]
  },
  {
   "cell_type": "markdown",
   "id": "adc4b799-282d-47fc-8ec1-98b9a6ac9137",
   "metadata": {},
   "source": [
    "6. Looking at the summary statistics, answer the following questions:\n",
    "\n",
    "- What is the most frequently occuring last name?\n",
    "- How often does the most frequently occuring last name appear?\n",
    "- How many different _kinds_ of occupations are listed in the data?\n",
    "- How old is the oldest passenger?\n"
   ]
  },
  {
   "cell_type": "markdown",
   "id": "dd1a33c3-f884-47d2-bad6-b7ac1a85f88f",
   "metadata": {},
   "source": [
    "Your answers here:\n",
    "\n",
    "- What is the most frequently occuring last name? The most common last name is Doherty.\n",
    "- How often does the most frequently occuring last name appear? It appears 12 times.\n",
    "- How many different _kinds_ of occupations are listed in the data? There were nine types of labeled occupations on the dataset.\n",
    "- How old is the oldest passenger? The oldest passenger was 64 years old. \n"
   ]
  },
  {
   "cell_type": "markdown",
   "id": "7f214254-b287-469b-be3d-0a18e2460ad9",
   "metadata": {},
   "source": [
    "7. Write code to answer: what was the **median** age of the passengers?\n"
   ]
  },
  {
   "cell_type": "code",
   "execution_count": 25,
   "id": "bf0458e4-892e-497b-9543-92ef66e3e80b",
   "metadata": {},
   "outputs": [
    {
     "data": {
      "text/plain": [
       "20.0"
      ]
     },
     "execution_count": 25,
     "metadata": {},
     "output_type": "execute_result"
    }
   ],
   "source": [
    "#Your Code Here\n",
    "passengers_df['age'].median()"
   ]
  },
  {
   "cell_type": "markdown",
   "id": "253a1523-01a2-4be3-ac86-081b3d43d495",
   "metadata": {},
   "source": [
    "8. What were the **ten most frequent cities** that passengers were traveling to and how many of them were going to each of these cities?\n"
   ]
  },
  {
   "cell_type": "code",
   "execution_count": 27,
   "id": "3edd1315-f228-41b0-905f-6e2709033889",
   "metadata": {},
   "outputs": [
    {
     "data": {
      "text/plain": [
       "destination_city\n",
       "Boston          107\n",
       "Pittsburg        52\n",
       "Chicago          36\n",
       "Scranton         30\n",
       "New York         26\n",
       "Brooklyn         26\n",
       "Portland         23\n",
       "Philadelphia     17\n",
       "St. Louis        15\n",
       "Fonda            11\n",
       "Name: count, dtype: int64"
      ]
     },
     "execution_count": 27,
     "metadata": {},
     "output_type": "execute_result"
    }
   ],
   "source": [
    "#Your Code Here\n",
    "passengers_df['destination_city'].value_counts().head(10)"
   ]
  },
  {
   "cell_type": "markdown",
   "id": "56e06642-451d-4999-8857-ea15c0df3148",
   "metadata": {},
   "source": [
    "9. Follow [Walsh's example](https://melaniewalsh.github.io/Intro-Cultural-Analytics/03-Data-Analysis/01-Pandas-Basics-Part1.html#:~:text=in%20the%201840s.-,Make%20and%20Save%20Plots,-%C2%B6) and adapt her code to make a bar chart of the **top ten most frequent destination cities** based on **how many passengers** were going to each of them.\n"
   ]
  },
  {
   "cell_type": "code",
   "execution_count": 29,
   "id": "e0d535a4-fcd5-422f-873b-ba98257967fa",
   "metadata": {},
   "outputs": [
    {
     "data": {
      "text/plain": [
       "<Axes: title={'center': 'Passengers:\\nTop 10 Destination Cities'}, xlabel='destination_city'>"
      ]
     },
     "execution_count": 29,
     "metadata": {},
     "output_type": "execute_result"
    },
    {
     "data": {
      "image/png": "[encoded data removed]",
      "text/plain": [
       "<Figure size 640x480 with 1 Axes>"
      ]
     },
     "metadata": {},
     "output_type": "display_data"
    }
   ],
   "source": [
    "#Your Code Here\n",
    "passengers_df['destination_city'].value_counts()[:10].plot(kind='bar', title='Passengers:\\nTop 10 Destination Cities')"
   ]
  },
  {
   "cell_type": "markdown",
   "id": "18768b2f-ee7b-4d2c-8587-208b25714938",
   "metadata": {},
   "source": [
    "10. Where were passengers coming from? Print out **the most frequent countries** they were immigrating from and how many passengers were coming from each country. Hint: use `value_counts()` and index.\n"
   ]
  },
  {
   "cell_type": "code",
   "execution_count": 31,
   "id": "159cf023-a193-4343-8adf-4253d0f717d7",
   "metadata": {},
   "outputs": [
    {
     "data": {
      "text/plain": [
       "native_country\n",
       "Ireland          461\n",
       "Scotland          51\n",
       "United States      3\n",
       "Name: count, dtype: int64"
      ]
     },
     "execution_count": 31,
     "metadata": {},
     "output_type": "execute_result"
    }
   ],
   "source": [
    "#Your Code Here\n",
    "passengers_df['native_country'].value_counts()"
   ]
  },
  {
   "cell_type": "markdown",
   "id": "217cb633-ef39-4479-ba19-7e556ebc85a3",
   "metadata": {},
   "source": [
    "11. Make a pie chart showing **how many passengers were coming from each country**. Adapt [Walsh's example](https://melaniewalsh.github.io/Intro-Cultural-Analytics/03-Data-Analysis/01-Pandas-Basics-Part1.html#:~:text=To%20make%20a%20pie%20chart%2C).\n"
   ]
  },
  {
   "cell_type": "code",
   "execution_count": 33,
   "id": "860a204a-8060-4845-bee5-022da95592d2",
   "metadata": {},
   "outputs": [
    {
     "data": {
      "text/plain": [
       "<Axes: title={'center': 'Passengers:\\nTop 10 Countries of Origin'}, ylabel='count'>"
      ]
     },
     "execution_count": 33,
     "metadata": {},
     "output_type": "execute_result"
    },
    {
     "data": {
      "image/png": "[encoded data removed]",
      "text/plain": [
       "<Figure size 1000x1000 with 1 Axes>"
      ]
     },
     "metadata": {},
     "output_type": "display_data"
    }
   ],
   "source": [
    "#Your Code Here\n",
    "passengers_df['native_country'].value_counts()[:10].plot(kind='pie', figsize=(10, 10), title='Passengers:\\nTop 10 Countries of Origin')"
   ]
  },
  {
   "cell_type": "markdown",
   "id": "596ff7d6-8819-409e-874a-d29421e03b62",
   "metadata": {},
   "source": [
    "12. Create a new variable called `children_filter` and assign it a True/False statement to that variable that specifies passengers who were **children**. Then use this new `children_filter` to create a new dataframe called `children_df` that **only contains passengers who were children**. Display a sample of **five random rows** from this new dataframe. Hint: look under the `occupation` column in your dataframe. Hint: [Walsh example](https://melaniewalsh.github.io/Intro-Cultural-Analytics/03-Data-Analysis/01-Pandas-Basics-Part1.html#:~:text=it%20can%20be%20helpful%20to%20make%20a%20separate%20variable%20for%20a%20filter).\n"
   ]
  },
  {
   "cell_type": "code",
   "execution_count": 35,
   "id": "2d4e1e97-59ab-40a5-962c-8b957b4bc317",
   "metadata": {
    "tags": []
   },
   "outputs": [
    {
     "data": {
      "text/html": [
       "<div>\n",
       "<style scoped>\n",
       "    .dataframe tbody tr th:only-of-type {\n",
       "        vertical-align: middle;\n",
       "    }\n",
       "\n",
       "    .dataframe tbody tr th {\n",
       "        vertical-align: top;\n",
       "    }\n",
       "\n",
       "    .dataframe thead th {\n",
       "        text-align: right;\n",
       "    }\n",
       "</style>\n",
       "<table border=\"1\" class=\"dataframe\">\n",
       "  <thead>\n",
       "    <tr style=\"text-align: right;\">\n",
       "      <th></th>\n",
       "      <th>first_name</th>\n",
       "      <th>last_name</th>\n",
       "      <th>date</th>\n",
       "      <th>age</th>\n",
       "      <th>native_country</th>\n",
       "      <th>destination_city</th>\n",
       "      <th>destination_state</th>\n",
       "      <th>occupation</th>\n",
       "      <th>ship</th>\n",
       "    </tr>\n",
       "  </thead>\n",
       "  <tbody>\n",
       "    <tr>\n",
       "      <th>25</th>\n",
       "      <td>Alex</td>\n",
       "      <td>McBride</td>\n",
       "      <td>09 Apr 1884</td>\n",
       "      <td>12</td>\n",
       "      <td>Scotland</td>\n",
       "      <td>Chicago</td>\n",
       "      <td>IL</td>\n",
       "      <td>Child</td>\n",
       "      <td>Steamship Grecian</td>\n",
       "    </tr>\n",
       "    <tr>\n",
       "      <th>26</th>\n",
       "      <td>Cath</td>\n",
       "      <td>McBride</td>\n",
       "      <td>09 Apr 1884</td>\n",
       "      <td>11</td>\n",
       "      <td>Scotland</td>\n",
       "      <td>Chicago</td>\n",
       "      <td>IL</td>\n",
       "      <td>Child</td>\n",
       "      <td>Steamship Grecian</td>\n",
       "    </tr>\n",
       "    <tr>\n",
       "      <th>27</th>\n",
       "      <td>Wm</td>\n",
       "      <td>McBride</td>\n",
       "      <td>09 Apr 1884</td>\n",
       "      <td>9</td>\n",
       "      <td>Scotland</td>\n",
       "      <td>Chicago</td>\n",
       "      <td>IL</td>\n",
       "      <td>Child</td>\n",
       "      <td>Steamship Grecian</td>\n",
       "    </tr>\n",
       "    <tr>\n",
       "      <th>28</th>\n",
       "      <td>Agnes</td>\n",
       "      <td>McBride</td>\n",
       "      <td>09 Apr 1884</td>\n",
       "      <td>7</td>\n",
       "      <td>Scotland</td>\n",
       "      <td>Chicago</td>\n",
       "      <td>IL</td>\n",
       "      <td>Child</td>\n",
       "      <td>Steamship Grecian</td>\n",
       "    </tr>\n",
       "    <tr>\n",
       "      <th>29</th>\n",
       "      <td>Maggie</td>\n",
       "      <td>McBride</td>\n",
       "      <td>09 Apr 1884</td>\n",
       "      <td>4</td>\n",
       "      <td>Scotland</td>\n",
       "      <td>Chicago</td>\n",
       "      <td>IL</td>\n",
       "      <td>Child</td>\n",
       "      <td>Steamship Grecian</td>\n",
       "    </tr>\n",
       "    <tr>\n",
       "      <th>...</th>\n",
       "      <td>...</td>\n",
       "      <td>...</td>\n",
       "      <td>...</td>\n",
       "      <td>...</td>\n",
       "      <td>...</td>\n",
       "      <td>...</td>\n",
       "      <td>...</td>\n",
       "      <td>...</td>\n",
       "      <td>...</td>\n",
       "    </tr>\n",
       "    <tr>\n",
       "      <th>499</th>\n",
       "      <td>Ellen</td>\n",
       "      <td>Deran</td>\n",
       "      <td>09 Apr 1884</td>\n",
       "      <td>8</td>\n",
       "      <td>Ireland</td>\n",
       "      <td>Pittsburg</td>\n",
       "      <td>PA</td>\n",
       "      <td>Child</td>\n",
       "      <td>Steamship Grecian</td>\n",
       "    </tr>\n",
       "    <tr>\n",
       "      <th>503</th>\n",
       "      <td>Pat</td>\n",
       "      <td>Kyne</td>\n",
       "      <td>09 Apr 1884</td>\n",
       "      <td>9</td>\n",
       "      <td>Ireland</td>\n",
       "      <td>Portland</td>\n",
       "      <td>ME</td>\n",
       "      <td>Child</td>\n",
       "      <td>Steamship Grecian</td>\n",
       "    </tr>\n",
       "    <tr>\n",
       "      <th>504</th>\n",
       "      <td>John</td>\n",
       "      <td>Kyne</td>\n",
       "      <td>09 Apr 1884</td>\n",
       "      <td>3</td>\n",
       "      <td>Ireland</td>\n",
       "      <td>Portland</td>\n",
       "      <td>ME</td>\n",
       "      <td>Child</td>\n",
       "      <td>Steamship Grecian</td>\n",
       "    </tr>\n",
       "    <tr>\n",
       "      <th>505</th>\n",
       "      <td>Mich</td>\n",
       "      <td>Kyne</td>\n",
       "      <td>09 Apr 1884</td>\n",
       "      <td>0</td>\n",
       "      <td>Ireland</td>\n",
       "      <td>Portland</td>\n",
       "      <td>ME</td>\n",
       "      <td>Child</td>\n",
       "      <td>Steamship Grecian</td>\n",
       "    </tr>\n",
       "    <tr>\n",
       "      <th>511</th>\n",
       "      <td>Math</td>\n",
       "      <td>Griffins</td>\n",
       "      <td>09 Apr 1884</td>\n",
       "      <td>2</td>\n",
       "      <td>Ireland</td>\n",
       "      <td>Pittsburg</td>\n",
       "      <td>PA</td>\n",
       "      <td>Child</td>\n",
       "      <td>Steamship Grecian</td>\n",
       "    </tr>\n",
       "  </tbody>\n",
       "</table>\n",
       "<p>132 rows × 9 columns</p>\n",
       "</div>"
      ],
      "text/plain": [
       "    first_name last_name         date  age native_country destination_city  \\\n",
       "25        Alex   McBride  09 Apr 1884   12       Scotland          Chicago   \n",
       "26        Cath   McBride  09 Apr 1884   11       Scotland          Chicago   \n",
       "27          Wm   McBride  09 Apr 1884    9       Scotland          Chicago   \n",
       "28       Agnes   McBride  09 Apr 1884    7       Scotland          Chicago   \n",
       "29      Maggie   McBride  09 Apr 1884    4       Scotland          Chicago   \n",
       "..         ...       ...          ...  ...            ...              ...   \n",
       "499      Ellen     Deran  09 Apr 1884    8        Ireland        Pittsburg   \n",
       "503        Pat      Kyne  09 Apr 1884    9        Ireland         Portland   \n",
       "504       John      Kyne  09 Apr 1884    3        Ireland         Portland   \n",
       "505       Mich      Kyne  09 Apr 1884    0        Ireland         Portland   \n",
       "511       Math  Griffins  09 Apr 1884    2        Ireland        Pittsburg   \n",
       "\n",
       "    destination_state occupation               ship  \n",
       "25                 IL      Child  Steamship Grecian  \n",
       "26                 IL      Child  Steamship Grecian  \n",
       "27                 IL      Child  Steamship Grecian  \n",
       "28                 IL      Child  Steamship Grecian  \n",
       "29                 IL      Child  Steamship Grecian  \n",
       "..                ...        ...                ...  \n",
       "499                PA      Child  Steamship Grecian  \n",
       "503                ME      Child  Steamship Grecian  \n",
       "504                ME      Child  Steamship Grecian  \n",
       "505                ME      Child  Steamship Grecian  \n",
       "511                PA      Child  Steamship Grecian  \n",
       "\n",
       "[132 rows x 9 columns]"
      ]
     },
     "execution_count": 35,
     "metadata": {},
     "output_type": "execute_result"
    }
   ],
   "source": [
    "#Your Code Here\n",
    "children_filter = passengers_df['occupation'] == 'Child'\n",
    "passengers_df[children_filter]"
   ]
  },
  {
   "cell_type": "code",
   "execution_count": 36,
   "id": "0ea39dd8-f94f-422e-8181-8e21982e2fc1",
   "metadata": {},
   "outputs": [
    {
     "data": {
      "text/html": [
       "<div>\n",
       "<style scoped>\n",
       "    .dataframe tbody tr th:only-of-type {\n",
       "        vertical-align: middle;\n",
       "    }\n",
       "\n",
       "    .dataframe tbody tr th {\n",
       "        vertical-align: top;\n",
       "    }\n",
       "\n",
       "    .dataframe thead th {\n",
       "        text-align: right;\n",
       "    }\n",
       "</style>\n",
       "<table border=\"1\" class=\"dataframe\">\n",
       "  <thead>\n",
       "    <tr style=\"text-align: right;\">\n",
       "      <th></th>\n",
       "      <th>first_name</th>\n",
       "      <th>last_name</th>\n",
       "      <th>date</th>\n",
       "      <th>age</th>\n",
       "      <th>native_country</th>\n",
       "      <th>destination_city</th>\n",
       "      <th>destination_state</th>\n",
       "      <th>occupation</th>\n",
       "      <th>ship</th>\n",
       "    </tr>\n",
       "  </thead>\n",
       "  <tbody>\n",
       "    <tr>\n",
       "      <th>49</th>\n",
       "      <td>Sarah</td>\n",
       "      <td>Watson</td>\n",
       "      <td>09 Apr 1884</td>\n",
       "      <td>4</td>\n",
       "      <td>Scotland</td>\n",
       "      <td>Auburn</td>\n",
       "      <td>NY</td>\n",
       "      <td>Child</td>\n",
       "      <td>Steamship Grecian</td>\n",
       "    </tr>\n",
       "    <tr>\n",
       "      <th>447</th>\n",
       "      <td>John</td>\n",
       "      <td>Mulkern</td>\n",
       "      <td>09 Apr 1884</td>\n",
       "      <td>9</td>\n",
       "      <td>Ireland</td>\n",
       "      <td>Pittsburg</td>\n",
       "      <td>PA</td>\n",
       "      <td>Child</td>\n",
       "      <td>Steamship Grecian</td>\n",
       "    </tr>\n",
       "    <tr>\n",
       "      <th>312</th>\n",
       "      <td>Mary</td>\n",
       "      <td>Divine</td>\n",
       "      <td>09 Apr 1884</td>\n",
       "      <td>11</td>\n",
       "      <td>Ireland</td>\n",
       "      <td>Fonda</td>\n",
       "      <td>NY</td>\n",
       "      <td>Child</td>\n",
       "      <td>Steamship Grecian</td>\n",
       "    </tr>\n",
       "    <tr>\n",
       "      <th>468</th>\n",
       "      <td>Ann</td>\n",
       "      <td>Kerrigan</td>\n",
       "      <td>09 Apr 1884</td>\n",
       "      <td>4</td>\n",
       "      <td>Ireland</td>\n",
       "      <td>Winchester</td>\n",
       "      <td>MA</td>\n",
       "      <td>Child</td>\n",
       "      <td>Steamship Grecian</td>\n",
       "    </tr>\n",
       "    <tr>\n",
       "      <th>354</th>\n",
       "      <td>Maggie</td>\n",
       "      <td>Brennan</td>\n",
       "      <td>09 Apr 1884</td>\n",
       "      <td>9</td>\n",
       "      <td>Ireland</td>\n",
       "      <td>New York</td>\n",
       "      <td>NY</td>\n",
       "      <td>Child</td>\n",
       "      <td>Steamship Grecian</td>\n",
       "    </tr>\n",
       "  </tbody>\n",
       "</table>\n",
       "</div>"
      ],
      "text/plain": [
       "    first_name last_name         date  age native_country destination_city  \\\n",
       "49       Sarah    Watson  09 Apr 1884    4       Scotland           Auburn   \n",
       "447       John   Mulkern  09 Apr 1884    9        Ireland        Pittsburg   \n",
       "312       Mary    Divine  09 Apr 1884   11        Ireland            Fonda   \n",
       "468        Ann  Kerrigan  09 Apr 1884    4        Ireland       Winchester   \n",
       "354     Maggie   Brennan  09 Apr 1884    9        Ireland         New York   \n",
       "\n",
       "    destination_state occupation               ship  \n",
       "49                 NY      Child  Steamship Grecian  \n",
       "447                PA      Child  Steamship Grecian  \n",
       "312                NY      Child  Steamship Grecian  \n",
       "468                MA      Child  Steamship Grecian  \n",
       "354                NY      Child  Steamship Grecian  "
      ]
     },
     "execution_count": 36,
     "metadata": {},
     "output_type": "execute_result"
    }
   ],
   "source": [
    "children_df = passengers_df[children_filter]\n",
    "children_df.sample(5)"
   ]
  },
  {
   "cell_type": "markdown",
   "id": "744af8b9-09b8-4b31-ab3f-57aa1e7cce88",
   "metadata": {},
   "source": [
    "13. Create a **new CSV file** named `passenger-list-children.csv` that only contains records for passengers who were children. Hint: you'll be printing the contents of `children_df` to a CSV file using `to_csv()` method. [Walsh example](https://melaniewalsh.github.io/Intro-Cultural-Analytics/03-Data-Analysis/01-Pandas-Basics-Part1.html#:~:text=To%20output%20a%20new%20CSV%20file). To check to make sure you successfully created the file, add a line of code that reads in the newly created CSV file using `pd.read_csv()`.\n"
   ]
  },
  {
   "cell_type": "code",
   "execution_count": 38,
   "id": "31f2ea0a-bfed-4c7c-b0ac-48b07c5c4e95",
   "metadata": {},
   "outputs": [],
   "source": [
    "#Your Code Here\n",
    "children_df.to_csv('passenger-list-children.csv', encoding='utf-8', index=False)"
   ]
  },
  {
   "cell_type": "markdown",
   "id": "196a2c06",
   "metadata": {},
   "source": [
    "## Bonus Questions\n"
   ]
  },
  {
   "cell_type": "markdown",
   "id": "fe39a415-beed-4174-8129-fd7e4d687f0a",
   "metadata": {},
   "source": [
    "What was the cut-off age for classifying a passenger as a child? Ie. What was **the oldest a passenger could be to still be considered a child**? Write code that prints out the answer to this question.\n"
   ]
  },
  {
   "cell_type": "code",
   "execution_count": 41,
   "id": "b51ba412-e369-44b1-ba5c-e04fe51a30e9",
   "metadata": {},
   "outputs": [
    {
     "data": {
      "text/plain": [
       "12"
      ]
     },
     "execution_count": 41,
     "metadata": {},
     "output_type": "execute_result"
    }
   ],
   "source": [
    "#Your Code Here\n",
    "children_df['age'].max()"
   ]
  },
  {
   "cell_type": "markdown",
   "id": "273f6342",
   "metadata": {},
   "source": [
    "**Age Comparison**: Calculate and write print() statements that show:\n",
    "\n",
    "- The average age of passengers from **Ireland**\n",
    "- The average age of passengers from **Scotland**.\n",
    "- The difference in years between these average\n"
   ]
  },
  {
   "cell_type": "code",
   "execution_count": 43,
   "id": "91e312f3",
   "metadata": {},
   "outputs": [],
   "source": [
    "#Your Code Here\n",
    "ire_avg_age = passengers_df[passengers_df['native_country'] == 'Ireland']['age'].mean()\n",
    "scot_avg_age = passengers_df[passengers_df['native_country'] == 'Scotland']['age'].mean()"
   ]
  },
  {
   "cell_type": "code",
   "execution_count": 44,
   "id": "be586012-3b3a-4509-8558-adf3d52e26e0",
   "metadata": {},
   "outputs": [],
   "source": [
    "age_diff = abs(ire_avg_age - scot_avg_age)"
   ]
  },
  {
   "cell_type": "code",
   "execution_count": 45,
   "id": "e3f9f974-748c-46b7-bfdd-35d23ece02fc",
   "metadata": {},
   "outputs": [
    {
     "name": "stdout",
     "output_type": "stream",
     "text": [
      "20.98698481561822\n"
     ]
    }
   ],
   "source": [
    "print(ire_avg_age)"
   ]
  },
  {
   "cell_type": "code",
   "execution_count": 46,
   "id": "c6c66093-0cdf-4998-bb17-3bfd2745262e",
   "metadata": {},
   "outputs": [
    {
     "name": "stdout",
     "output_type": "stream",
     "text": [
      "25.098039215686274\n"
     ]
    }
   ],
   "source": [
    "print(scot_avg_age)"
   ]
  },
  {
   "cell_type": "code",
   "execution_count": 47,
   "id": "aee9f9f4-4dbb-4050-a993-988f9eed5dc0",
   "metadata": {},
   "outputs": [
    {
     "name": "stdout",
     "output_type": "stream",
     "text": [
      "4.111054400068053\n"
     ]
    }
   ],
   "source": [
    "print(age_diff)"
   ]
  },
  {
   "cell_type": "markdown",
   "id": "7c1a9038",
   "metadata": {},
   "source": [
    "**Save a Filtered Dataset**: Create a new CSV file that contains data for: only adult passengers (**age 18 and over**) who were heading to **Boston**.\n"
   ]
  },
  {
   "cell_type": "code",
   "execution_count": 49,
   "id": "8d4602a8",
   "metadata": {},
   "outputs": [],
   "source": [
    "#Your Code Here\n",
    "adult_boston_filter = (passengers_df['age'] >= 18) & (passengers_df['destination_city'] == 'Boston')\n",
    "adult_boston_df = passengers_df[adult_boston_filter]"
   ]
  },
  {
   "cell_type": "code",
   "execution_count": 50,
   "id": "3502fa50-8005-4650-834b-028990df3e72",
   "metadata": {},
   "outputs": [],
   "source": [
    "adult_boston_df.to_csv('passengers_adult_boston.csv', encoding='utf-8', index=False)"
   ]
  },
  {
   "cell_type": "code",
   "execution_count": null,
   "id": "7d542e05-9dc7-4fe7-9e8a-5b6037674683",
   "metadata": {},
   "outputs": [],
   "source": []
  }
 ],
 "metadata": {
  "kernelspec": {
   "display_name": "Python [conda env:base] *",
   "language": "python",
   "name": "conda-base-py"
  },
  "language_info": {
   "codemirror_mode": {
    "name": "ipython",
    "version": 3
   },
   "file_extension": ".py",
   "mimetype": "text/x-python",
   "name": "python",
   "nbconvert_exporter": "python",
   "pygments_lexer": "ipython3",
   "version": "3.12.7"
  },
  "toc-autonumbering": false,
  "toc-showmarkdowntxt": false,
  "toc-showtags": false
 },
 "nbformat": 4,
 "nbformat_minor": 5
}

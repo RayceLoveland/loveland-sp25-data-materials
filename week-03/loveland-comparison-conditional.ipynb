{
 "cells": [
  {
   "cell_type": "markdown",
   "id": "299add71-93ec-4376-86ad-80a8b3d590c1",
   "metadata": {},
   "source": [
    "Part 1: Creating variables "
   ]
  },
  {
   "cell_type": "code",
   "execution_count": 33,
   "id": "83ea0fe0-149c-44c6-906a-39dc02c90fa0",
   "metadata": {},
   "outputs": [],
   "source": [
    "# Boston population data\n",
    "boston_1850 = 136881\n",
    "boston_1860 = 177840\n",
    "boston_1870 = 250526\n",
    "\n",
    "# New York population data\n",
    "ny_1850 = 515547\n",
    "ny_1860 = 813669\n",
    "ny_1870 = 942292\n",
    "\n",
    "# Philadelphia population data\n",
    "phil_1850 = 121376\n",
    "phil_1860 = 565529\n",
    "phil_1870 = 674022\n"
   ]
  },
  {
   "cell_type": "code",
   "execution_count": 35,
   "id": "3bef8a0b-2e66-4f89-8ab2-c906dfe17e02",
   "metadata": {},
   "outputs": [
    {
     "name": "stdout",
     "output_type": "stream",
     "text": [
      "113645\n"
     ]
    }
   ],
   "source": [
    "boston_population_surpassed=boston_1870-boston_1850\n",
    "print(boston_population_surpassed)"
   ]
  },
  {
   "cell_type": "code",
   "execution_count": 37,
   "id": "54c16b96-6373-4d93-8512-66360ccd9320",
   "metadata": {},
   "outputs": [
    {
     "name": "stdout",
     "output_type": "stream",
     "text": [
      "Yes!\n"
     ]
    }
   ],
   "source": [
    "if boston_1870> 200000:\n",
    "    print(\"Yes!\")\n",
    "else:\n",
    "    print(\"No\")"
   ]
  },
  {
   "cell_type": "code",
   "execution_count": 41,
   "id": "5023c462-2463-416f-bb74-5c6537ac4b4c",
   "metadata": {},
   "outputs": [
    {
     "name": "stdout",
     "output_type": "stream",
     "text": [
      "New York is larger in 1860\n"
     ]
    }
   ],
   "source": [
    "if ny_1860 > phil_1860:\n",
    "    print(\"New York is larger in 1860\")\n",
    "else:\n",
    "    print(\"Philadelphia was larger in 1860\")"
   ]
  },
  {
   "cell_type": "markdown",
   "id": "54635791-d27f-4d3f-b038-9ef8bffdfa8e",
   "metadata": {},
   "source": [
    "Population Growth"
   ]
  },
  {
   "cell_type": "code",
   "execution_count": 44,
   "id": "39be1741-9f39-49a7-9c31-a8d96d7162ce",
   "metadata": {},
   "outputs": [],
   "source": [
    "# Calculate population growth\n",
    "boston_growth = boston_1870 - boston_1850\n",
    "ny_growth = ny_1870 - ny_1850\n",
    "phil_growth = phil_1870 - phil_1850\n"
   ]
  },
  {
   "cell_type": "code",
   "execution_count": 52,
   "id": "5d9f02bf-8644-4109-8b25-04277330315b",
   "metadata": {},
   "outputs": [
    {
     "name": "stdout",
     "output_type": "stream",
     "text": [
      "Philadelphia\n"
     ]
    }
   ],
   "source": [
    "if boston_growth>ny_growth and boston_growth>phil_growth:\n",
    "        print(\"Boston higher\")\n",
    "elif ny_growth>phil_growth and ny_growth>boston_growth:\n",
    "    print(\"New York higher\")\n",
    "elif phil_growth>ny_growth and phil_growth>boston_growth:\n",
    "    print(\"Philadelphia\")"
   ]
  },
  {
   "cell_type": "markdown",
   "id": "8151d05e-7a0a-408a-b3da-bf1f8a7f6aa7",
   "metadata": {},
   "source": [
    "Write code using and to check if BOTH:\n",
    "Boston’s 1870 population was over 200,000\n",
    "AND Boston’s population increased by at least 100,000 from 1850 to 1870"
   ]
  },
  {
   "cell_type": "code",
   "execution_count": 60,
   "id": "46ed5794-b06c-492d-be00-1dde6bb73490",
   "metadata": {},
   "outputs": [
    {
     "name": "stdout",
     "output_type": "stream",
     "text": [
      "Condition met!\n"
     ]
    }
   ],
   "source": [
    "if boston_1870>200000 and (boston_1870-boston_1850)>100000:\n",
    "    print(\"Condition met!\")"
   ]
  },
  {
   "cell_type": "code",
   "execution_count": null,
   "id": "581eff35-b0fc-4ecd-b756-fcf6c511676c",
   "metadata": {},
   "outputs": [],
   "source": []
  }
 ],
 "metadata": {
  "kernelspec": {
   "display_name": "Python [conda env:base] *",
   "language": "python",
   "name": "conda-base-py"
  },
  "language_info": {
   "codemirror_mode": {
    "name": "ipython",
    "version": 3
   },
   "file_extension": ".py",
   "mimetype": "text/x-python",
   "name": "python",
   "nbconvert_exporter": "python",
   "pygments_lexer": "ipython3",
   "version": "3.12.7"
  }
 },
 "nbformat": 4,
 "nbformat_minor": 5
}
